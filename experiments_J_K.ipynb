{
 "cells": [
  {
   "cell_type": "code",
   "execution_count": 1,
   "id": "5b877bbd",
   "metadata": {},
   "outputs": [
    {
     "data": {
      "text/plain": [
       "<module 'experiment_4' from 'f:\\\\Jelena\\\\FAKULTET\\\\Student\\\\DOKTORAT\\\\projekat 2rad\\\\oop\\\\experiment_4.py'>"
      ]
     },
     "execution_count": 1,
     "metadata": {},
     "output_type": "execute_result"
    }
   ],
   "source": [
    "import importlib\n",
    "experiment_1 = importlib.import_module(\"experiment 1\")\n",
    "importlib.reload(experiment_1)\n",
    "import importlib\n",
    "generate_dataset = importlib.import_module(\"generate_dataset\")\n",
    "importlib.reload(generate_dataset)\n",
    "\n",
    "\n",
    "\n",
    "import importlib\n",
    "\n",
    "experiment_2 = importlib.import_module(\"experiment_2\")\n",
    "importlib.reload(experiment_2)\n",
    "\n",
    "experiment_4 = importlib.import_module(\"experiment_4\")\n",
    "importlib.reload(experiment_4)"
   ]
  },
  {
   "cell_type": "code",
   "execution_count": 2,
   "id": "9618c9ca",
   "metadata": {},
   "outputs": [],
   "source": [
    "from generate_dataset import *\n",
    "from neural_net import *\n",
    "from plotting import *\n",
    "from postprocessing_dataset import *\n",
    "from predicting import *\n",
    "from preprocessing_dataset import *\n",
    "from testing import *\n",
    "import json\n",
    "np.set_printoptions(precision=2)"
   ]
  },
  {
   "cell_type": "code",
   "execution_count": null,
   "id": "398116a2",
   "metadata": {},
   "outputs": [],
   "source": [
    "data = generate_dataset.generate_raw_dataset_K(5000,600)"
   ]
  },
  {
   "cell_type": "code",
   "execution_count": null,
   "id": "4885610d",
   "metadata": {},
   "outputs": [],
   "source": [
    "len(data[\"objects\"])"
   ]
  },
  {
   "cell_type": "code",
   "execution_count": null,
   "id": "e6074a99",
   "metadata": {},
   "outputs": [],
   "source": [
    "experiment_4.export_dataset(data,\"data_K.json\")"
   ]
  },
  {
   "cell_type": "code",
   "execution_count": null,
   "id": "e94c64d9",
   "metadata": {},
   "outputs": [],
   "source": [
    "data =  experiment_4.import_dataset(\"data_K.json\")"
   ]
  },
  {
   "cell_type": "code",
   "execution_count": null,
   "id": "ab9b61ef",
   "metadata": {},
   "outputs": [],
   "source": [
    "data"
   ]
  },
  {
   "cell_type": "code",
   "execution_count": 3,
   "id": "698ed159",
   "metadata": {},
   "outputs": [],
   "source": [
    "def experiment_J_K(data_train,data_test, train_set_sizes,testset_size,object_types_prediction,max_obj_types,feature = 1):\n",
    "    length_feature = 1\n",
    "    whole = 5\n",
    "    \n",
    "    length_feature = 1\n",
    "    num_features = 1\n",
    "    def reset_weights(model):\n",
    "        import keras.backend as K\n",
    "        session = K.get_session()\n",
    "        for layer in model.layers: \n",
    "            if hasattr(layer, 'kernel_initializer'): \n",
    "                layer.kernel.initializer.run(session=session)\n",
    "            if hasattr(layer, 'bias_initializer'):\n",
    "                layer.bias.initializer.run(session=session)  \n",
    "    precissions_types_train, recall_types_train,precissions_types_test, recall_types_test = [],[],[],[]\n",
    "    #object_types_prediction  = list(range(0,data_train[\"objects\"].shape[1]))\n",
    "    train_raw_dataset = experiment_4.make_train(data_train, train_set_sizes[0])\n",
    "    print(object_types_prediction)\n",
    "    X_test,Y_test = experiment_1.data_preprocessing(data_test,max_obj_types,length_feature,object_types_prediction,feature)\n",
    "    print(X_test.shape)\n",
    "#     X_test = X_test[:,[0,1,4],:]\n",
    "    Xtrains = []\n",
    "    Ytrains = []\n",
    "    Xtest = []\n",
    "    Ytest = []\n",
    "    preds_train = []\n",
    "    preds_test = []\n",
    "    \n",
    "    types_train = []\n",
    "    types_test = []\n",
    "    for train_size_id in range(len(train_set_sizes)):\n",
    "        if train_size_id > 0:        \n",
    "            train_raw_dataset = experiment_4.make_train(data_train, train_set_sizes[train_size_id])\n",
    "            reset_weights(model)\n",
    "\n",
    "        X_train,Y_train = experiment_1.data_preprocessing(train_raw_dataset,max_obj_types,length_feature,object_types_prediction,feature)\n",
    "        print(\"shape\")\n",
    "        print(X_train.shape)\n",
    "#         X_train = X_train[:,[0,1,4],:] \n",
    "        model = run_nn((X_train, Y_train), (X_test, Y_test),5 )\n",
    "        pred_train = experiment_1.model_predict(model, X_train,length_feature,2,1)\n",
    "        pred_test = experiment_1.model_predict(model, X_test,length_feature,2,1)\n",
    "        \n",
    "        pred_train = experiment_1.arrange_object(pred_train, Y_train)\n",
    "        pred_test = experiment_1.arrange_object(pred_test, Y_test)\n",
    "\n",
    "        \n",
    "        precision_train_types, recall_train_types = precisions_recalls_types_ex(pred_train,Y_train,object_types_prediction)\n",
    "        precision_test_types, recall_test_types = precisions_recalls_types_ex(pred_test,Y_test,object_types_prediction)\n",
    "        precissions_types_train.append(precision_train_types)\n",
    "        recall_types_train.append(recall_train_types)\n",
    "        precissions_types_test.append(precision_test_types)\n",
    "        recall_types_test.append(recall_test_types)\n",
    "        Xtrains.append(X_train)\n",
    "        Ytrains.append(Y_train)\n",
    "        Xtest.append(X_test)\n",
    "        Ytest.append(Y_test)\n",
    "        preds_train.append(pred_train)\n",
    "        preds_test.append(pred_test)\n",
    "        types_train.append(train_raw_dataset[\"types\"])\n",
    "\n",
    "\n",
    "    return types_train,precissions_types_train,recall_types_train,precissions_types_test,recall_types_test,Xtrains,Ytrains,Xtest,Ytest,preds_test,preds_train\n"
   ]
  },
  {
   "cell_type": "code",
   "execution_count": null,
   "id": "91ba2fb1",
   "metadata": {},
   "outputs": [],
   "source": [
    "max_object_types = 2\n",
    "object_types_prediction  = list(range(0,max_object_types))\n",
    "object_types_prediction = object_types_prediction[1:]\n",
    "data = experiment_4.import_dataset(\"data_K.json\")\n",
    "\n",
    "precissions_types_train_iterations = []# broj iteracija, broj razlicitih velicina trening skupa, broj tipova,broj primera\n",
    "recall_types_train_iterations = []\n",
    "precissions_types_test_iterations = []\n",
    "recall_types_test_iterations = []\n",
    "\n",
    "X_types_train_iterations = []# broj iteracija, broj razlicitih velicina trening skupa, broj tipova,broj primera\n",
    "Y_train_iterations = []\n",
    "X_types_test_iterations = []\n",
    "Y_types_test_iterations = []\n",
    "isti = []\n",
    "preds_train = []\n",
    "preds_test = []\n",
    "types_tran = []\n",
    "types_test = []\n",
    "for i in range(0,5):\n",
    "    #data = import_dataset(\"data.json\")\n",
    "    data_train,data_test = experiment_4.make_train_test(data, 4000, 1000)\n",
    "\n",
    "    \n",
    "    types_tr,precissions_types_train,recall_types_train,precissions_types_test,recall_types_test,a,b,c,d,pred_test,pred_train = experiment_J_K(data_train,data_test, [100, 200, 500, 1000, 4000],1000,object_types_prediction,max_object_types)\n",
    "    precissions_types_train_iterations.append(precissions_types_train)\n",
    "    recall_types_train_iterations.append(recall_types_train)\n",
    "    precissions_types_test_iterations.append(precissions_types_test)\n",
    "    recall_types_test_iterations.append(recall_types_test)\n",
    "    X_types_train_iterations.append(a)\n",
    "    Y_train_iterations.append(b)\n",
    "    X_types_test_iterations.append(c)\n",
    "    Y_types_test_iterations.append(d)\n",
    "    preds_train.append(pred_train)\n",
    "    preds_test.append(pred_test)\n",
    "    types_tran.append(types_tr)\n",
    "    types_test.append(data_test[\"types\"])\n",
    "    print(\"finish\")\n",
    "X_types_test_iterations = np.asarray(X_types_test_iterations)\n",
    "Y_types_test_iterations = np.asarray(Y_types_test_iterations)\n",
    "\n",
    "recall_types_test_iterations = np.asarray(recall_types_test_iterations)\n"
   ]
  },
  {
   "cell_type": "code",
   "execution_count": null,
   "id": "a4b0c6f5",
   "metadata": {},
   "outputs": [],
   "source": [
    "X_types_test_iterations = np.asarray(X_types_test_iterations)\n",
    "Y_types_test_iterations = np.asarray(Y_types_test_iterations)\n",
    "\n",
    "precissions_types_train_iterations = np.asarray(precissions_types_train_iterations)\n",
    "precissions_types_test_iterations = np.asarray(precissions_types_test_iterations)\n",
    "\n",
    "recall_types_train_iterations = np.asarray(recall_types_train_iterations)\n",
    "recall_types_test_iterations = np.asarray(recall_types_test_iterations)\n",
    "\n",
    "preds_train,preds_test = np.asarray(preds_train),np.asarray(preds_test)\n",
    "\n",
    "types_tran = np.asarray(types_tran)\n",
    "types_test = np.asarray(types_test)\n",
    "\n",
    "types_test = np.asarray([types_test,types_test,types_test,types_test,types_test])\n",
    "types_test = np.transpose(types_test,[1,0,2])"
   ]
  },
  {
   "cell_type": "code",
   "execution_count": null,
   "id": "fc0d8f2a",
   "metadata": {},
   "outputs": [],
   "source": [
    "# results = [types_tran,types_test,precissions_types_train_iterations,recall_types_train_iterations,precissions_types_test_iterations,recall_types_test_iterations,X_types_train_iterations,Y_train_iterations,X_types_test_iterations,Y_types_test_iterations,preds_train,preds_test]\n",
    "# import pickle\n",
    "# with open(\"results_k1\", \"wb\") as fp:   #Pickling\n",
    "#     pickle.dump(results, fp)"
   ]
  },
  {
   "cell_type": "code",
   "execution_count": 3,
   "id": "f8794ca7",
   "metadata": {},
   "outputs": [],
   "source": [
    "import pickle\n",
    "file = open('results_k1', 'rb')\n",
    "\n",
    "# dump information to that file\n",
    "data = pickle.load(file)\n",
    "types_tran,types_test,precissions_types_train_iterations,recall_types_train_iterations,precissions_types_test_iterations,recall_types_test_iterations,X_types_train_iterations,Y_train_iterations,X_types_test_iterations,Y_types_test_iterations,preds_train,preds_test = data\n",
    "\n",
    "test_type_0 = (types_test==0)\n",
    "test_type_1 = (types_test==1)\n",
    "test_type_2 = (types_test==2)"
   ]
  },
  {
   "cell_type": "code",
   "execution_count": 4,
   "id": "06bf481a",
   "metadata": {},
   "outputs": [],
   "source": [
    "import pickle\n",
    "file = open('results_j', 'rb')\n",
    "\n",
    "# dump information to that file\n",
    "data = pickle.load(file)\n",
    "types_tran,types_test,precissions_types_train_iterations,recall_types_train_iterations,precissions_types_test_iterations,recall_types_test_iterations,X_types_train_iterations,Y_train_iterations,X_types_test_iterations,Y_types_test_iterations,preds_train,preds_test = data\n",
    "\n",
    "test_type_0 = (types_test==0)\n",
    "test_type_1 = (types_test==1)\n"
   ]
  },
  {
   "cell_type": "code",
   "execution_count": null,
   "id": "63738bcf",
   "metadata": {},
   "outputs": [],
   "source": [
    "a = np.transpose(types_test1,[1,0,2])"
   ]
  },
  {
   "cell_type": "code",
   "execution_count": null,
   "id": "c41055f2",
   "metadata": {
    "scrolled": true
   },
   "outputs": [],
   "source": [
    "np.where(types_test[0,4,:] == 0)"
   ]
  },
  {
   "cell_type": "code",
   "execution_count": null,
   "id": "13c4987c",
   "metadata": {},
   "outputs": [],
   "source": [
    "np.where(X_types_test_iterations[0,4,15,0]==1)"
   ]
  },
  {
   "cell_type": "code",
   "execution_count": null,
   "id": "14fc6bbc",
   "metadata": {},
   "outputs": [],
   "source": [
    "np.where(X_types_test_iterations[0,4,15,2]==1)"
   ]
  },
  {
   "cell_type": "code",
   "execution_count": null,
   "id": "40f554e5",
   "metadata": {},
   "outputs": [],
   "source": [
    "np.where(X_types_test_iterations[0,4,15,1])"
   ]
  },
  {
   "cell_type": "code",
   "execution_count": null,
   "id": "8418d2b1",
   "metadata": {},
   "outputs": [],
   "source": [
    "np.where(preds_test[0][4][15])"
   ]
  },
  {
   "cell_type": "code",
   "execution_count": null,
   "id": "b55b2ff1",
   "metadata": {},
   "outputs": [],
   "source": [
    "np.where(Y_types_test_iterations[0,4,15,:])"
   ]
  },
  {
   "cell_type": "code",
   "execution_count": null,
   "id": "43fa25fc",
   "metadata": {},
   "outputs": [],
   "source": [
    "correct_side[3,4,15]"
   ]
  },
  {
   "cell_type": "markdown",
   "id": "e57fd52e",
   "metadata": {},
   "source": [
    "### f1"
   ]
  },
  {
   "cell_type": "code",
   "execution_count": 5,
   "id": "ed5937b5",
   "metadata": {},
   "outputs": [
    {
     "name": "stderr",
     "output_type": "stream",
     "text": [
      "f:\\Jelena\\FAKULTET\\Student\\DOKTORAT\\projekat 2rad\\oop\\experiment 1.py:292: RuntimeWarning: invalid value encountered in divide\n",
      "  return np.nan_to_num(2*prec*rec/(prec+rec))\n"
     ]
    }
   ],
   "source": [
    "f1 = experiment_1.f1_obj(precissions_types_test_iterations,recall_types_test_iterations)\n",
    "f1 = f1[:,:,0,:]"
   ]
  },
  {
   "cell_type": "code",
   "execution_count": null,
   "id": "aae03935",
   "metadata": {},
   "outputs": [],
   "source": [
    "experiment_1.plot_f1_by_size(precissions_types_train_iterations,recall_types_train_iterations,'r')\n",
    "experiment_1.plot_f1_by_size(precissions_types_test_iterations,recall_types_test_iterations,'b')\n",
    "plt.legend([\"train\",\"test\"])\n",
    "plt.savefig(\"train_test_size\")"
   ]
  },
  {
   "cell_type": "code",
   "execution_count": 6,
   "id": "52863415",
   "metadata": {},
   "outputs": [
    {
     "data": {
      "text/plain": [
       "array([50.29, 53.74, 65.95, 77.92, 87.29])"
      ]
     },
     "execution_count": 6,
     "metadata": {},
     "output_type": "execute_result"
    }
   ],
   "source": [
    "# f1 po tipovima ex1 (J)\n",
    "np.ma.masked_where(types_test==0,f1).mean(axis =2).mean(axis = 0).data*100\n"
   ]
  },
  {
   "cell_type": "code",
   "execution_count": 10,
   "id": "324c698e",
   "metadata": {},
   "outputs": [
    {
     "data": {
      "text/plain": [
       "array([50.27, 53.74, 66.03, 77.79, 87.45])"
      ]
     },
     "execution_count": 10,
     "metadata": {},
     "output_type": "execute_result"
    }
   ],
   "source": [
    "np.ma.masked_where(types_test==0,f1).mean(axis =0).mean(axis = 1).data*100"
   ]
  },
  {
   "cell_type": "code",
   "execution_count": null,
   "id": "a954ae3b",
   "metadata": {},
   "outputs": [],
   "source": [
    "np.ma.masked_where(types_test==1,f1).mean(axis =2).mean(axis = 0).data * 100"
   ]
  },
  {
   "cell_type": "markdown",
   "id": "83ad1f0c",
   "metadata": {},
   "source": [
    "### f1 po tipovima ex2(K)"
   ]
  },
  {
   "cell_type": "code",
   "execution_count": null,
   "id": "c32a96e7",
   "metadata": {},
   "outputs": [],
   "source": [
    "f1[types_test==0].mean()"
   ]
  },
  {
   "cell_type": "code",
   "execution_count": null,
   "id": "2538e495",
   "metadata": {},
   "outputs": [],
   "source": [
    "np.ma.masked_where(np.logical_or(types_test==1,types_test==2),f1).mean(axis =2).mean(axis = 0).data*100\n"
   ]
  },
  {
   "cell_type": "code",
   "execution_count": null,
   "id": "8d1c4259",
   "metadata": {},
   "outputs": [],
   "source": [
    "np.ma.masked_where(~(types_test==0),f1).mean(axis =2).mean(axis = 0).data*100\n"
   ]
  },
  {
   "cell_type": "code",
   "execution_count": null,
   "id": "9fa90ff1",
   "metadata": {},
   "outputs": [],
   "source": [
    "np.ma.masked_where(np.logical_or(types_test==0,types_test==2),f1).mean(axis =2).mean(axis = 0).data*100\n"
   ]
  },
  {
   "cell_type": "code",
   "execution_count": null,
   "id": "aeaee832",
   "metadata": {},
   "outputs": [],
   "source": [
    "np.ma.masked_where(np.logical_or(types_test==0,types_test==1),f1).mean(axis =2).mean(axis = 0).data*100\n"
   ]
  },
  {
   "cell_type": "markdown",
   "id": "6238b01f",
   "metadata": {},
   "source": [
    "### Distance"
   ]
  },
  {
   "cell_type": "code",
   "execution_count": 5,
   "id": "a8b9b708",
   "metadata": {},
   "outputs": [],
   "source": [
    "###distanec\n",
    "\n",
    "def distance_o_f(pred,X_test):\n",
    "    distance = []\n",
    "    \n",
    "    for i in range(pred.shape[0]):\n",
    "        if (pred[i].sum() != 0) :\n",
    "            start = np.where(pred[i]==1)[0][0]\n",
    "            end = np.where(pred[i]==1)[0][-1]\n",
    "            feature = np.where(X_test[i][1]==1)[0][0]\n",
    "        #         print(end,length)\n",
    "\n",
    "            if feature > end:\n",
    "                dist = feature - end\n",
    "            elif feature < start:\n",
    "                dist = start - feature\n",
    "            else:\n",
    "                dist = -min(end - feature, feature - start)\n",
    "            distance.append(dist)\n",
    "        else:\n",
    "            distance.append(0)\n",
    "    return distance\n",
    "# def violation_iteration_size(pred,X_test):\n",
    "#     violations = []\n",
    "#     for i in range(pred.shape[0]):#iteration\n",
    "#         violations.append([violation(pred[i][j],X_test[i][j]) for j in range(0,pred.shape[1])])#size\n",
    "#     return np.asarray(violations)\n",
    "\n",
    "def distance_o_f_iteration(pred,X_test):\n",
    "    distance_iter = []\n",
    "    for i in range(pred.shape[0]):#iteration\n",
    "        distance = []\n",
    "        for j in range(0,pred.shape[1]):\n",
    "            dist = distance_o_f(pred[i][j],X_test[i][j])\n",
    "#            nepreskace = niz == 0\n",
    "            distance.append(dist)\n",
    "\n",
    "#        violations_all_count.append(violations_count)\n",
    "        distance_iter.append(distance)\n",
    "\n",
    "        #        cor_all.append(corrects)\n",
    "    return np.asarray(distance_iter)"
   ]
  },
  {
   "cell_type": "code",
   "execution_count": 6,
   "id": "5badb473",
   "metadata": {},
   "outputs": [],
   "source": [
    "dist = distance_o_f_iteration(preds_test,X_types_test_iterations)"
   ]
  },
  {
   "cell_type": "code",
   "execution_count": null,
   "id": "1c779f53",
   "metadata": {},
   "outputs": [],
   "source": [
    "dist"
   ]
  },
  {
   "cell_type": "markdown",
   "id": "b179ba6c",
   "metadata": {},
   "source": [
    "### exp 1(J)"
   ]
  },
  {
   "cell_type": "code",
   "execution_count": null,
   "id": "dcd1f0da",
   "metadata": {},
   "outputs": [],
   "source": [
    "#cover total\n",
    "(dist<=0).mean(axis =2).mean(axis = 0)*100"
   ]
  },
  {
   "cell_type": "code",
   "execution_count": 28,
   "id": "2a69ee99",
   "metadata": {},
   "outputs": [
    {
     "data": {
      "text/plain": [
       "array([56.66, 36.96, 18.68,  9.46,  4.51])"
      ]
     },
     "execution_count": 28,
     "metadata": {},
     "output_type": "execute_result"
    }
   ],
   "source": [
    "#dist total\n",
    "np.ma.masked_where(dist<=0,dist).mean(axis =2).mean(axis = 0).data"
   ]
  },
  {
   "cell_type": "code",
   "execution_count": 29,
   "id": "bd8019da",
   "metadata": {},
   "outputs": [
    {
     "data": {
      "text/plain": [
       "array([[[1, 1, 0, ..., 0, 1, 0],\n",
       "        [1, 1, 0, ..., 0, 1, 0],\n",
       "        [1, 1, 0, ..., 0, 1, 0],\n",
       "        [1, 1, 0, ..., 0, 1, 0],\n",
       "        [1, 1, 0, ..., 0, 1, 0]],\n",
       "\n",
       "       [[0, 0, 0, ..., 0, 0, 1],\n",
       "        [0, 0, 0, ..., 0, 0, 1],\n",
       "        [0, 0, 0, ..., 0, 0, 1],\n",
       "        [0, 0, 0, ..., 0, 0, 1],\n",
       "        [0, 0, 0, ..., 0, 0, 1]],\n",
       "\n",
       "       [[1, 1, 0, ..., 0, 0, 1],\n",
       "        [1, 1, 0, ..., 0, 0, 1],\n",
       "        [1, 1, 0, ..., 0, 0, 1],\n",
       "        [1, 1, 0, ..., 0, 0, 1],\n",
       "        [1, 1, 0, ..., 0, 0, 1]],\n",
       "\n",
       "       [[1, 0, 0, ..., 1, 1, 1],\n",
       "        [1, 0, 0, ..., 1, 1, 1],\n",
       "        [1, 0, 0, ..., 1, 1, 1],\n",
       "        [1, 0, 0, ..., 1, 1, 1],\n",
       "        [1, 0, 0, ..., 1, 1, 1]],\n",
       "\n",
       "       [[1, 1, 1, ..., 1, 0, 0],\n",
       "        [1, 1, 1, ..., 1, 0, 0],\n",
       "        [1, 1, 1, ..., 1, 0, 0],\n",
       "        [1, 1, 1, ..., 1, 0, 0],\n",
       "        [1, 1, 1, ..., 1, 0, 0]]])"
      ]
     },
     "execution_count": 29,
     "metadata": {},
     "output_type": "execute_result"
    }
   ],
   "source": [
    "types_test"
   ]
  },
  {
   "cell_type": "code",
   "execution_count": 38,
   "id": "987adad3",
   "metadata": {},
   "outputs": [
    {
     "data": {
      "text/plain": [
       "(-3.0, 100.0)"
      ]
     },
     "execution_count": 38,
     "metadata": {},
     "output_type": "execute_result"
    },
    {
     "data": {
      "image/png": "[encoded data removed]",
      "text/plain": [
       "<Figure size 640x480 with 1 Axes>"
      ]
     },
     "metadata": {},
     "output_type": "display_data"
    }
   ],
   "source": [
    "import matplotlib.pyplot as plt\n",
    "l8a = np.ma.masked_where(np.logical_or(~(types_test==0),dist<=0),dist)[:,4,:].mean(axis = 0)\n",
    "\n",
    "l8b = np.ma.masked_where(np.logical_or(~(types_test==1),dist<=0),dist)[:,4,:].mean(axis = 0)\n",
    "\n",
    "\n",
    "idx = 0\n",
    "for i in range(2,5):\n",
    "    l8a = np.ma.masked_where(np.logical_or(~(types_test==0),dist<=0),dist)[:,i,:].mean(axis = 0)\n",
    "\n",
    "    l8b = np.ma.masked_where(np.logical_or(~(types_test==1),dist<=0),dist)[:,i,:].mean(axis = 0)\n",
    "\n",
    "    plt.boxplot([l8a,l8b], positions=[idx,idx+1], widths = 0.6)\n",
    "    idx = idx + 3\n",
    "\n",
    "plt.ylim(-3,100)"
   ]
  },
  {
   "cell_type": "code",
   "execution_count": null,
   "id": "d6354544",
   "metadata": {},
   "outputs": [],
   "source": [
    "import pickle\n",
    "\n",
    "\n",
    "# dump information to that file\n",
    "file = open('results_f', 'rb')\n",
    "\n",
    "# dump information to that file\n",
    "data = pickle.load(file)\n",
    "\n",
    "\n",
    "\n",
    "precissions_types_train_iterations,recall_types_train_iterations,precissions_types_test_iterations,recall_types_test_iterations,X_types_train_iterations,Y_train_iterations,X_types_test_iterations,Y_types_test_iterations,preds_train,preds_test = data\n",
    "\n",
    "over6,dist6 = experiment_2.overl_dist_iterations(preds_test, X_types_test_iterations)#dist -1 tamo gde je overlaping>0 i obrnuto\n",
    "\n",
    "left_test,right_test = experiment_2.to_the_left_to_o1(X_types_test_iterations[:,:,:,1,:],Y_types_test_iterations)\n",
    "left_pred,right_pred = experiment_2.to_the_left_to_o1(X_types_test_iterations[:,:,:,1,:],preds_test)\n",
    "l6 =np.ma.masked_where(np.logical_or(right_pred,dist6<=0),dist6).mean(axis = 0)\n",
    "\n",
    "\n",
    "file = open('results_g', 'rb')\n",
    "\n",
    "# dump information to that file\n",
    "data = pickle.load(file)\n",
    "\n",
    "precissions_types_train_iterations,recall_types_train_iterations,precissions_types_test_iterations,recall_types_test_iterations,X_types_train_iterations,Y_train_iterations,X_types_test_iterations,Y_types_test_iterations,preds_train,preds_test = data\n",
    "\n",
    "over7,dist7 = experiment_2.overl_dist_iterations(preds_test, X_types_test_iterations)#dist -1 tamo gde je overlaping>0 i obrnuto\n",
    "\n",
    "l7 = np.ma.masked_where(dist7<=0,dist7).mean(axis = 0).data\n",
    "\n",
    "# for i in range(5):\n",
    "#     plt.boxplot(l9a[i], positions=[i + 1.1], labels=['X{}'.format(i + 1)])\n",
    "num_groups = 5\n",
    "idx = 1\n",
    "# Width of each box\n",
    "box_width = 0.35\n",
    "for i in range(2,5):\n",
    "\n",
    "    plt.boxplot([l6[i],l7[i]], positions=[idx,idx+1], widths = 0.6)\n",
    "    idx = idx + 3\n",
    "\n",
    "\n",
    "\n",
    "\n",
    "plt.savefig(\"F:/Jelena/FAKULTET/Student/DOKTORAT/radovi/nase/2. rad/applied ai/tabels/imgs/data_e_giss_box.png\")\n",
    "\n",
    "\n",
    "\n",
    "plt.show()\n",
    "np.savetxt('l6.txt', l6, fmt='%.2f')\n",
    "np.savetxt('l7.txt', l7, fmt='%.2f')"
   ]
  },
  {
   "cell_type": "code",
   "execution_count": 26,
   "id": "399ff10b",
   "metadata": {},
   "outputs": [
    {
     "data": {
      "text/plain": [
       "masked_array(data=[--, --, --, --, --, --, --, 0.0, --, --, 0.0, --, --,\n",
       "                   --, --, --, --, 0.0, --, --, --, 0.0, 0.0, 0.0, --, --,\n",
       "                   --, --, --, --, --, --, --, 0.0, --, --, --, 0.0, --,\n",
       "                   --, 0.0, --, --, --, 0.0, --, --, 0.0, 0.0, 0.0, --,\n",
       "                   --, --, --, --, --, --, --, --, --, --, --, --, --, --,\n",
       "                   0.0, 0.0, 0.0, --, --, --, --, 0.0, --, --, --, --, --,\n",
       "                   --, --, --, --, --, --, --, 0.0, --, --, --, 0.0, 0.0,\n",
       "                   --, 0.0, 0.0, --, --, --, 0.0, --, --, --, --, --, 0.0,\n",
       "                   --, --, --, --, --, --, --, 0.0, --, --, 0.0, --, --,\n",
       "                   0.0, 0.0, --, --, --, --, --, --, --, --, --, --, --,\n",
       "                   --, 0.0, --, --, --, 0.0, 0.0, --, 0.0, --, --, --, --,\n",
       "                   0.0, --, --, --, 0.0, --, --, 0.0, --, --, --, 0.0, --,\n",
       "                   --, --, --, --, --, --, --, --, --, --, --, --, --, --,\n",
       "                   0.0, --, 0.0, --, 0.0, --, --, --, 0.0, --, --, --,\n",
       "                   0.0, --, --, --, 0.0, 0.0, 0.0, --, --, --, --, --, --,\n",
       "                   --, --, --, --, --, --, --, --, 0.0, --, 0.0, --, --,\n",
       "                   0.0, --, --, --, --, --, --, --, 0.0, --, --, --, --,\n",
       "                   --, --, 0.0, --, --, --, --, --, --, --, --, --, --,\n",
       "                   --, --, --, --, 0.0, 0.0, --, 0.0, --, 0.0, 0.0, --,\n",
       "                   --, --, 0.0, --, --, 0.0, --, --, --, --, --, 0.0, --,\n",
       "                   --, --, --, --, --, --, 0.0, --, --, --, --, 0.0, --,\n",
       "                   --, --, 0.0, --, --, 0.0, --, --, --, --, --, --, --,\n",
       "                   --, --, --, --, --, --, 0.0, --, --, --, 0.0, --, 0.0,\n",
       "                   --, --, 0.0, --, --, 0.0, --, 0.0, --, --, --, 0.0, --,\n",
       "                   0.0, --, --, --, --, --, 0.0, --, 0.0, 0.0, --, --, --,\n",
       "                   --, --, --, 0.0, 0.0, 0.0, --, --, --, --, --, --, --,\n",
       "                   0.0, --, --, --, --, --, --, --, --, 0.0, --, 0.0, 0.0,\n",
       "                   --, 0.0, 0.0, 0.0, --, --, --, --, 0.0, --, --, 0.0,\n",
       "                   --, --, --, --, --, --, 0.0, --, --, --, --, --, --,\n",
       "                   0.0, --, 0.0, --, --, 0.0, --, --, --, --, --, --, --,\n",
       "                   --, 0.0, --, 0.0, --, 0.0, --, --, 0.0, --, --, --, --,\n",
       "                   --, 0.0, --, 0.0, --, 0.0, --, 0.0, --, --, --, 0.0,\n",
       "                   --, 0.0, --, --, --, --, 0.0, --, --, --, --, 0.0, --,\n",
       "                   0.0, --, --, --, --, --, --, --, --, --, --, --, --,\n",
       "                   --, 0.0, --, --, --, --, --, --, --, 0.0, --, 0.0, --,\n",
       "                   --, 0.0, --, --, --, --, --, --, --, --, --, 0.0, --,\n",
       "                   --, --, --, --, --, 0.0, --, --, --, --, 0.0, --, --,\n",
       "                   --, --, --, 0.0, --, --, --, --, 0.0, --, --, --, 0.0,\n",
       "                   0.0, --, --, --, --, --, 0.0, --, --, --, --, --, --,\n",
       "                   --, --, --, --, 0.0, --, --, --, --, --, 0.0, --, --,\n",
       "                   --, --, 0.0, --, --, --, --, --, --, --, --, --, --,\n",
       "                   --, --, --, --, 0.0, --, --, --, --, --, 0.0, --, --,\n",
       "                   --, --, --, --, --, --, 0.0, --, 0.0, --, --, --, 0.0,\n",
       "                   --, 0.0, --, --, --, --, --, --, --, --, 0.0, 0.0, --,\n",
       "                   --, --, --, 0.0, --, --, --, --, --, --, --, --, --,\n",
       "                   --, --, --, --, --, --, --, --, --, --, 0.0, --, --,\n",
       "                   --, --, 0.0, --, --, 0.0, 0.0, 0.0, --, --, --, --,\n",
       "                   0.0, --, --, --, --, 0.0, --, --, --, --, --, --, --,\n",
       "                   0.0, --, --, --, 0.0, --, --, --, --, --, --, --, --,\n",
       "                   --, 0.0, --, --, --, --, --, --, --, --, --, --, --,\n",
       "                   --, --, --, 0.0, --, 0.0, --, --, --, 0.0, --, --, --,\n",
       "                   0.0, 0.0, --, --, --, --, --, --, 0.0, --, --, --, --,\n",
       "                   --, --, --, --, --, --, --, 0.0, --, --, --, 0.0, --,\n",
       "                   --, --, 0.0, --, 0.0, --, --, --, --, --, --, --, 0.0,\n",
       "                   --, --, 0.0, --, --, --, --, --, --, 0.0, --, 0.0, --,\n",
       "                   --, --, --, 0.0, --, --, --, --, --, --, 0.0, --, --,\n",
       "                   0.0, --, --, --, --, --, --, --, --, --, --, --, 0.0,\n",
       "                   --, --, --, --, --, --, --, --, --, --, --, --, --, --,\n",
       "                   --, --, --, --, --, --, --, --, --, --, --, --, --, --,\n",
       "                   --, --, --, 0.0, --, --, --, 0.0, --, --, --, --, 0.0,\n",
       "                   0.0, 0.0, --, --, --, --, --, --, --, --, --, 0.0, 0.0,\n",
       "                   0.0, --, --, --, --, 0.0, --, --, --, --, --, --, --,\n",
       "                   --, --, --, --, --, --, --, --, --, 0.0, --, --, --,\n",
       "                   0.0, --, --, 0.0, --, 0.0, --, --, --, --, --, --, --,\n",
       "                   --, --, --, --, --, --, --, --, --, --, --, --, --, --,\n",
       "                   --, --, 0.0, --, 0.0, --, --, --, --, --, 0.0, --, --,\n",
       "                   --, --, --, --, 0.0, --, 0.0, --, --, --, 0.0, --, --,\n",
       "                   0.0, --, --, 0.0, --, --, --, --, --, --, --, --, --,\n",
       "                   --, 0.0, --, --, 0.0, --, 0.0, --, --, --, --, --, --,\n",
       "                   0.0, --, 0.0, --, --, --, 0.0, 0.0, 0.0, --, --, 0.0,\n",
       "                   --, 0.0, --, 0.0, 0.0, --, --, --, 0.0, --, --, 0.0,\n",
       "                   --, --, --, --, 0.0, 0.0, --, --, --, 0.0, 0.0, 0.0,\n",
       "                   0.0, --, 0.0, --, --, --, --, --, --, --, --, --, --,\n",
       "                   --, 0.0, --, --, --, --, 0.0, 0.0, 0.0, --, --, --, --,\n",
       "                   0.0, 0.0, --, --, --, --, --, 0.0, --, --, 0.0, --, --,\n",
       "                   0.0, --, --, 0.0, --, --, --, --, --, --, --, --, --,\n",
       "                   --, --, --, --, --, 0.0, --, --, --, --, --, --, --,\n",
       "                   0.0, --, --],\n",
       "             mask=[ True,  True,  True,  True,  True,  True,  True, False,\n",
       "                    True,  True, False,  True,  True,  True,  True,  True,\n",
       "                    True, False,  True,  True,  True, False, False, False,\n",
       "                    True,  True,  True,  True,  True,  True,  True,  True,\n",
       "                    True, False,  True,  True,  True, False,  True,  True,\n",
       "                   False,  True,  True,  True, False,  True,  True, False,\n",
       "                   False, False,  True,  True,  True,  True,  True,  True,\n",
       "                    True,  True,  True,  True,  True,  True,  True,  True,\n",
       "                    True, False, False, False,  True,  True,  True,  True,\n",
       "                   False,  True,  True,  True,  True,  True,  True,  True,\n",
       "                    True,  True,  True,  True,  True, False,  True,  True,\n",
       "                    True, False, False,  True, False, False,  True,  True,\n",
       "                    True, False,  True,  True,  True,  True,  True, False,\n",
       "                    True,  True,  True,  True,  True,  True,  True, False,\n",
       "                    True,  True, False,  True,  True, False, False,  True,\n",
       "                    True,  True,  True,  True,  True,  True,  True,  True,\n",
       "                    True,  True,  True, False,  True,  True,  True, False,\n",
       "                   False,  True, False,  True,  True,  True,  True, False,\n",
       "                    True,  True,  True, False,  True,  True, False,  True,\n",
       "                    True,  True, False,  True,  True,  True,  True,  True,\n",
       "                    True,  True,  True,  True,  True,  True,  True,  True,\n",
       "                    True,  True, False,  True, False,  True, False,  True,\n",
       "                    True,  True, False,  True,  True,  True, False,  True,\n",
       "                    True,  True, False, False, False,  True,  True,  True,\n",
       "                    True,  True,  True,  True,  True,  True,  True,  True,\n",
       "                    True,  True,  True, False,  True, False,  True,  True,\n",
       "                   False,  True,  True,  True,  True,  True,  True,  True,\n",
       "                   False,  True,  True,  True,  True,  True,  True, False,\n",
       "                    True,  True,  True,  True,  True,  True,  True,  True,\n",
       "                    True,  True,  True,  True,  True,  True, False, False,\n",
       "                    True, False,  True, False, False,  True,  True,  True,\n",
       "                   False,  True,  True, False,  True,  True,  True,  True,\n",
       "                    True, False,  True,  True,  True,  True,  True,  True,\n",
       "                    True, False,  True,  True,  True,  True, False,  True,\n",
       "                    True,  True, False,  True,  True, False,  True,  True,\n",
       "                    True,  True,  True,  True,  True,  True,  True,  True,\n",
       "                    True,  True,  True, False,  True,  True,  True, False,\n",
       "                    True, False,  True,  True, False,  True,  True, False,\n",
       "                    True, False,  True,  True,  True, False,  True, False,\n",
       "                    True,  True,  True,  True,  True, False,  True, False,\n",
       "                   False,  True,  True,  True,  True,  True,  True, False,\n",
       "                   False, False,  True,  True,  True,  True,  True,  True,\n",
       "                    True, False,  True,  True,  True,  True,  True,  True,\n",
       "                    True,  True, False,  True, False, False,  True, False,\n",
       "                   False, False,  True,  True,  True,  True, False,  True,\n",
       "                    True, False,  True,  True,  True,  True,  True,  True,\n",
       "                   False,  True,  True,  True,  True,  True,  True, False,\n",
       "                    True, False,  True,  True, False,  True,  True,  True,\n",
       "                    True,  True,  True,  True,  True, False,  True, False,\n",
       "                    True, False,  True,  True, False,  True,  True,  True,\n",
       "                    True,  True, False,  True, False,  True, False,  True,\n",
       "                   False,  True,  True,  True, False,  True, False,  True,\n",
       "                    True,  True,  True, False,  True,  True,  True,  True,\n",
       "                   False,  True, False,  True,  True,  True,  True,  True,\n",
       "                    True,  True,  True,  True,  True,  True,  True,  True,\n",
       "                   False,  True,  True,  True,  True,  True,  True,  True,\n",
       "                   False,  True, False,  True,  True, False,  True,  True,\n",
       "                    True,  True,  True,  True,  True,  True,  True, False,\n",
       "                    True,  True,  True,  True,  True,  True, False,  True,\n",
       "                    True,  True,  True, False,  True,  True,  True,  True,\n",
       "                    True, False,  True,  True,  True,  True, False,  True,\n",
       "                    True,  True, False, False,  True,  True,  True,  True,\n",
       "                    True, False,  True,  True,  True,  True,  True,  True,\n",
       "                    True,  True,  True,  True, False,  True,  True,  True,\n",
       "                    True,  True, False,  True,  True,  True,  True, False,\n",
       "                    True,  True,  True,  True,  True,  True,  True,  True,\n",
       "                    True,  True,  True,  True,  True,  True, False,  True,\n",
       "                    True,  True,  True,  True, False,  True,  True,  True,\n",
       "                    True,  True,  True,  True,  True, False,  True, False,\n",
       "                    True,  True,  True, False,  True, False,  True,  True,\n",
       "                    True,  True,  True,  True,  True,  True, False, False,\n",
       "                    True,  True,  True,  True, False,  True,  True,  True,\n",
       "                    True,  True,  True,  True,  True,  True,  True,  True,\n",
       "                    True,  True,  True,  True,  True,  True,  True,  True,\n",
       "                   False,  True,  True,  True,  True, False,  True,  True,\n",
       "                   False, False, False,  True,  True,  True,  True, False,\n",
       "                    True,  True,  True,  True, False,  True,  True,  True,\n",
       "                    True,  True,  True,  True, False,  True,  True,  True,\n",
       "                   False,  True,  True,  True,  True,  True,  True,  True,\n",
       "                    True,  True, False,  True,  True,  True,  True,  True,\n",
       "                    True,  True,  True,  True,  True,  True,  True,  True,\n",
       "                    True, False,  True, False,  True,  True,  True, False,\n",
       "                    True,  True,  True, False, False,  True,  True,  True,\n",
       "                    True,  True,  True, False,  True,  True,  True,  True,\n",
       "                    True,  True,  True,  True,  True,  True,  True, False,\n",
       "                    True,  True,  True, False,  True,  True,  True, False,\n",
       "                    True, False,  True,  True,  True,  True,  True,  True,\n",
       "                    True, False,  True,  True, False,  True,  True,  True,\n",
       "                    True,  True,  True, False,  True, False,  True,  True,\n",
       "                    True,  True, False,  True,  True,  True,  True,  True,\n",
       "                    True, False,  True,  True, False,  True,  True,  True,\n",
       "                    True,  True,  True,  True,  True,  True,  True,  True,\n",
       "                   False,  True,  True,  True,  True,  True,  True,  True,\n",
       "                    True,  True,  True,  True,  True,  True,  True,  True,\n",
       "                    True,  True,  True,  True,  True,  True,  True,  True,\n",
       "                    True,  True,  True,  True,  True,  True,  True,  True,\n",
       "                   False,  True,  True,  True, False,  True,  True,  True,\n",
       "                    True, False, False, False,  True,  True,  True,  True,\n",
       "                    True,  True,  True,  True,  True, False, False, False,\n",
       "                    True,  True,  True,  True, False,  True,  True,  True,\n",
       "                    True,  True,  True,  True,  True,  True,  True,  True,\n",
       "                    True,  True,  True,  True,  True, False,  True,  True,\n",
       "                    True, False,  True,  True, False,  True, False,  True,\n",
       "                    True,  True,  True,  True,  True,  True,  True,  True,\n",
       "                    True,  True,  True,  True,  True,  True,  True,  True,\n",
       "                    True,  True,  True,  True,  True,  True, False,  True,\n",
       "                   False,  True,  True,  True,  True,  True, False,  True,\n",
       "                    True,  True,  True,  True,  True, False,  True, False,\n",
       "                    True,  True,  True, False,  True,  True, False,  True,\n",
       "                    True, False,  True,  True,  True,  True,  True,  True,\n",
       "                    True,  True,  True,  True, False,  True,  True, False,\n",
       "                    True, False,  True,  True,  True,  True,  True,  True,\n",
       "                   False,  True, False,  True,  True,  True, False, False,\n",
       "                   False,  True,  True, False,  True, False,  True, False,\n",
       "                   False,  True,  True,  True, False,  True,  True, False,\n",
       "                    True,  True,  True,  True, False, False,  True,  True,\n",
       "                    True, False, False, False, False,  True, False,  True,\n",
       "                    True,  True,  True,  True,  True,  True,  True,  True,\n",
       "                    True,  True, False,  True,  True,  True,  True, False,\n",
       "                   False, False,  True,  True,  True,  True, False, False,\n",
       "                    True,  True,  True,  True,  True, False,  True,  True,\n",
       "                   False,  True,  True, False,  True,  True, False,  True,\n",
       "                    True,  True,  True,  True,  True,  True,  True,  True,\n",
       "                    True,  True,  True,  True,  True, False,  True,  True,\n",
       "                    True,  True,  True,  True,  True, False,  True,  True],\n",
       "       fill_value=1e+20)"
      ]
     },
     "execution_count": 26,
     "metadata": {},
     "output_type": "execute_result"
    }
   ],
   "source": [
    "l8a"
   ]
  },
  {
   "cell_type": "code",
   "execution_count": 9,
   "id": "e08ace06",
   "metadata": {},
   "outputs": [
    {
     "data": {
      "text/plain": [
       "array([28.25, 25.56, 15.15,  8.78,  3.6 ])"
      ]
     },
     "execution_count": 9,
     "metadata": {},
     "output_type": "execute_result"
    }
   ],
   "source": [
    "#inter dsictance\n",
    "-1 * np.ma.masked_where(np.logical_or(types_test==1,dist>0),dist).mean(axis =2).mean(axis = 0).data"
   ]
  },
  {
   "cell_type": "code",
   "execution_count": null,
   "id": "3cb97b2b",
   "metadata": {},
   "outputs": [],
   "source": [
    "np.ma.masked_where(dist<=0,dist).mean(axis =2).mean(axis = 0).data"
   ]
  },
  {
   "cell_type": "code",
   "execution_count": null,
   "id": "93751898",
   "metadata": {},
   "outputs": [],
   "source": [
    "#cover 1\n",
    "np.ma.masked_where(types_test1==0,(dist<=0)).mean(axis =2).mean(axis = 0).data*100"
   ]
  },
  {
   "cell_type": "code",
   "execution_count": null,
   "id": "2ee1d61e",
   "metadata": {},
   "outputs": [],
   "source": [
    "#cover 0\n",
    "np.ma.masked_where(types_test1==1,(dist<=0)).mean(axis =2).mean(axis = 0).data*100"
   ]
  },
  {
   "cell_type": "code",
   "execution_count": null,
   "id": "83671269",
   "metadata": {},
   "outputs": [
    {
     "ename": "NameError",
     "evalue": "name 'np' is not defined",
     "output_type": "error",
     "traceback": [
      "\u001b[1;31m---------------------------------------------------------------------------\u001b[0m",
      "\u001b[1;31mNameError\u001b[0m                                 Traceback (most recent call last)",
      "Cell \u001b[1;32mIn[1], line 2\u001b[0m\n\u001b[0;32m      1\u001b[0m \u001b[38;5;66;03m#dist 0\u001b[39;00m\n\u001b[1;32m----> 2\u001b[0m \u001b[43mnp\u001b[49m\u001b[38;5;241m.\u001b[39mma\u001b[38;5;241m.\u001b[39mmasked_where(np\u001b[38;5;241m.\u001b[39mlogical_or(types_test\u001b[38;5;241m==\u001b[39m\u001b[38;5;241m1\u001b[39m,(dist\u001b[38;5;241m<\u001b[39m\u001b[38;5;241m=\u001b[39m\u001b[38;5;241m0\u001b[39m)),dist)\u001b[38;5;241m.\u001b[39mmean(axis \u001b[38;5;241m=\u001b[39m\u001b[38;5;241m2\u001b[39m)\u001b[38;5;241m.\u001b[39mmean(axis \u001b[38;5;241m=\u001b[39m \u001b[38;5;241m0\u001b[39m)\u001b[38;5;241m.\u001b[39mdata\n\u001b[0;32m      3\u001b[0m np\u001b[38;5;241m.\u001b[39mma\u001b[38;5;241m.\u001b[39mmasked_where(np\u001b[38;5;241m.\u001b[39mlogical_or(types_test\u001b[38;5;241m==\u001b[39m\u001b[38;5;241m1\u001b[39m,(dist\u001b[38;5;241m<\u001b[39m\u001b[38;5;241m=\u001b[39m\u001b[38;5;241m0\u001b[39m)),dist)\u001b[38;5;241m.\u001b[39mmean(axis \u001b[38;5;241m=\u001b[39m\u001b[38;5;241m2\u001b[39m)\u001b[38;5;241m.\u001b[39mstd(axis \u001b[38;5;241m=\u001b[39m \u001b[38;5;241m0\u001b[39m)\u001b[38;5;241m.\u001b[39mdata\n",
      "\u001b[1;31mNameError\u001b[0m: name 'np' is not defined"
     ]
    }
   ],
   "source": [
    "import numpy as np\n",
    "#dist 0\n",
    "np.ma.masked_where(np.logical_or(types_test==1,(dist<=0)),dist).mean(axis =2).mean(axis = 0).data\n"
   ]
  },
  {
   "cell_type": "code",
   "execution_count": null,
   "id": "8f8d015a",
   "metadata": {},
   "outputs": [],
   "source": [
    "#dist 1\n",
    "np.ma.masked_where(np.logical_or(types_test==0,(dist<=0)),dist).mean(axis =2).mean(axis = 0).data\n",
    "np.ma.masked_where(np.logical_or(types_test==1,(dist<=0)),dist).mean(axis =2).std(axis = 0).data"
   ]
  },
  {
   "cell_type": "code",
   "execution_count": null,
   "id": "d42a4bc0",
   "metadata": {},
   "outputs": [],
   "source": [
    "plt.hist(dist[0,0])"
   ]
  },
  {
   "cell_type": "code",
   "execution_count": null,
   "id": "c69d03c0",
   "metadata": {},
   "outputs": [],
   "source": [
    "dist[0,0][17]"
   ]
  },
  {
   "cell_type": "code",
   "execution_count": null,
   "id": "58b3e4c2",
   "metadata": {},
   "outputs": [],
   "source": [
    "preds_test[0,0,17]"
   ]
  },
  {
   "cell_type": "code",
   "execution_count": null,
   "id": "d40616c8",
   "metadata": {},
   "outputs": [],
   "source": [
    "Y_types_test_iterations[0,0,17]"
   ]
  },
  {
   "cell_type": "code",
   "execution_count": null,
   "id": "1562c860",
   "metadata": {},
   "outputs": [],
   "source": [
    "X_types_test_iterations[0,0,17][1]"
   ]
  },
  {
   "cell_type": "code",
   "execution_count": null,
   "id": "8db2f220",
   "metadata": {},
   "outputs": [],
   "source": [
    "X_types_test_iterations[0,0,5][0]"
   ]
  },
  {
   "cell_type": "code",
   "execution_count": null,
   "id": "8618176e",
   "metadata": {},
   "outputs": [],
   "source": [
    "np.ma.masked_where(dist<=0,dist).mean(axis =2).mean(axis = 0).data\n",
    "np.ma.masked_where(np.logical_or(~test_type_0,(dist<=0)),dist).mean(axis =2).mean(axis = 0).data"
   ]
  },
  {
   "cell_type": "markdown",
   "id": "ad382d5c",
   "metadata": {},
   "source": [
    "### exp 2(K)"
   ]
  },
  {
   "cell_type": "code",
   "execution_count": 5,
   "id": "a6df1bc1",
   "metadata": {},
   "outputs": [],
   "source": [
    "test_type_0 = (types_test==0)\n",
    "test_type_1 = (types_test==1)\n",
    "test_type_2 = (types_test==2)"
   ]
  },
  {
   "cell_type": "code",
   "execution_count": null,
   "id": "1fd353f5",
   "metadata": {},
   "outputs": [],
   "source": [
    "#cover total\n",
    "(dist<=0).mean(axis =2).mean(axis = 0)*100"
   ]
  },
  {
   "cell_type": "code",
   "execution_count": null,
   "id": "27d3c136",
   "metadata": {},
   "outputs": [],
   "source": [
    "#dist total\n",
    "np.ma.masked_where(dist<=0,dist).mean(axis =2).mean(axis = 0).data\n",
    "np.ma.masked_where(np.logical_or(~test_type_0,(dist<=0)),dist).mean(axis =2).mean(axis = 0).data\n",
    "np.ma.masked_where(np.logical_or(~test_type_0,(dist<=0)),dist).std(axis =2).mean(axis = 0).data"
   ]
  },
  {
   "cell_type": "code",
   "execution_count": 10,
   "id": "cb60d8f5",
   "metadata": {},
   "outputs": [
    {
     "data": {
      "text/plain": [
       "array([23.97, 20.87, 10.89,  6.06,  2.96])"
      ]
     },
     "execution_count": 10,
     "metadata": {},
     "output_type": "execute_result"
    }
   ],
   "source": [
    "#cover 0\n",
    "np.ma.masked_where(np.logical_or(test_type_1,test_type_2),(dist<=0)).mean(axis =2).mean(axis = 0).data*100"
   ]
  },
  {
   "cell_type": "code",
   "execution_count": null,
   "id": "f832a8ba",
   "metadata": {},
   "outputs": [],
   "source": [
    "#dist 0\n",
    "np.ma.masked_where(np.logical_or(~test_type_0,(dist<=0)),dist).mean(axis =2).mean(axis = 0).data"
   ]
  },
  {
   "cell_type": "code",
   "execution_count": 9,
   "id": "00673c74",
   "metadata": {},
   "outputs": [
    {
     "data": {
      "text/plain": [
       "array([19.29, 18.99,  8.4 ,  5.99,  4.39])"
      ]
     },
     "execution_count": 9,
     "metadata": {},
     "output_type": "execute_result"
    }
   ],
   "source": [
    "#cover 1\n",
    "np.ma.masked_where(np.logical_or(test_type_0,test_type_2),(dist<=0)).mean(axis =2).mean(axis = 0).data*100"
   ]
  },
  {
   "cell_type": "code",
   "execution_count": null,
   "id": "1f0c7fc3",
   "metadata": {},
   "outputs": [],
   "source": [
    "#dist 1\n",
    "np.ma.masked_where(np.logical_or(~test_type_1,(dist<=0)),dist).mean(axis =2).mean(axis = 0).data"
   ]
  },
  {
   "cell_type": "code",
   "execution_count": null,
   "id": "08152e66",
   "metadata": {},
   "outputs": [],
   "source": [
    "#cover 2\n",
    "np.ma.masked_where(np.logical_or(test_type_0,test_type_1),(dist<=0)).mean(axis =2).mean(axis = 0).data*100"
   ]
  },
  {
   "cell_type": "code",
   "execution_count": null,
   "id": "b7fc6428",
   "metadata": {},
   "outputs": [],
   "source": [
    "#dist 2\n",
    "np.ma.masked_where(np.logical_or(~test_type_2,(dist<=0)),dist).mean(axis =2).mean(axis = 0).data"
   ]
  },
  {
   "cell_type": "code",
   "execution_count": 25,
   "id": "5069c154",
   "metadata": {},
   "outputs": [
    {
     "data": {
      "text/plain": [
       "array([23.68, 23.98, 23.35, 14.89, 11.99])"
      ]
     },
     "execution_count": 25,
     "metadata": {},
     "output_type": "execute_result"
    }
   ],
   "source": [
    "#inter distance dist 2\n",
    "-1 * np.ma.masked_where(np.logical_or(types_test==2,dist>0),dist).mean(axis =2).mean(axis = 0).data"
   ]
  },
  {
   "cell_type": "code",
   "execution_count": null,
   "id": "025fb420",
   "metadata": {},
   "outputs": [],
   "source": [
    "types_test1 = np.asarray([types_test,types_test,types_test,types_test,types_test])"
   ]
  },
  {
   "cell_type": "code",
   "execution_count": null,
   "id": "4fbbcc37",
   "metadata": {},
   "outputs": [],
   "source": [
    "X_types_test_iterations.shape"
   ]
  },
  {
   "cell_type": "code",
   "execution_count": null,
   "id": "d39eb363",
   "metadata": {},
   "outputs": [],
   "source": [
    "test_type_0[0,0,0]"
   ]
  },
  {
   "cell_type": "code",
   "execution_count": null,
   "id": "7c4f66ac",
   "metadata": {},
   "outputs": [],
   "source": [
    "np.where(X_types_test_iterations[0,0,0,0]==1)"
   ]
  },
  {
   "cell_type": "code",
   "execution_count": null,
   "id": "ab4bf2ef",
   "metadata": {},
   "outputs": [],
   "source": [
    "np.where(X_types_test_iterations[0,0,0,1]==1)"
   ]
  },
  {
   "cell_type": "code",
   "execution_count": null,
   "id": "417dc453",
   "metadata": {},
   "outputs": [],
   "source": [
    "test_type_0.shape"
   ]
  },
  {
   "cell_type": "code",
   "execution_count": null,
   "id": "0fcd05d5",
   "metadata": {},
   "outputs": [],
   "source": [
    "X_types_test_iterations.shape"
   ]
  },
  {
   "cell_type": "markdown",
   "id": "d3144661",
   "metadata": {},
   "source": [
    "### Correct side"
   ]
  },
  {
   "cell_type": "code",
   "execution_count": 38,
   "id": "8914cf6f",
   "metadata": {},
   "outputs": [],
   "source": [
    "left_pred,right_pred = experiment_2.to_the_left_to_o1(X_types_test_iterations[:,:,:,2,:],preds_test)"
   ]
  },
  {
   "cell_type": "code",
   "execution_count": 5,
   "id": "71e0b500",
   "metadata": {},
   "outputs": [],
   "source": [
    "left_test,right_test = experiment_2.to_the_left_to_o1(X_types_test_iterations[:,:,:,2,:],Y_types_test_iterations)"
   ]
  },
  {
   "cell_type": "code",
   "execution_count": 45,
   "id": "f5b9b52a",
   "metadata": {},
   "outputs": [
    {
     "data": {
      "text/plain": [
       "array([ 97.85,  99.24,  99.69,  99.93, 100.  ])"
      ]
     },
     "execution_count": 45,
     "metadata": {},
     "output_type": "execute_result"
    }
   ],
   "source": [
    "np.ma.masked_where(np.logical_or(~test_type_0,(dist<=0)),(right_predf == right_pred)).mean(axis =2).mean(axis = 0).data*100"
   ]
  },
  {
   "cell_type": "markdown",
   "id": "8b5e0b38",
   "metadata": {},
   "source": [
    "### Correct side feaature "
   ]
  },
  {
   "cell_type": "code",
   "execution_count": 43,
   "id": "7e124f24",
   "metadata": {},
   "outputs": [],
   "source": [
    "left_predf,right_predf = experiment_2.to_the_left_to_o1(X_types_test_iterations[:,:,:,1,:],preds_test)\n",
    "left_test,right_test = experiment_2.to_the_left_to_o1(X_types_test_iterations[:,:,:,1,:],Y_types_test_iterations)"
   ]
  },
  {
   "cell_type": "code",
   "execution_count": 19,
   "id": "3da3c2a1",
   "metadata": {},
   "outputs": [
    {
     "data": {
      "text/plain": [
       "array([71.34, 69.72, 79.16, 84.86, 87.84])"
      ]
     },
     "execution_count": 19,
     "metadata": {},
     "output_type": "execute_result"
    }
   ],
   "source": [
    "correct_side = (left_pred==left_test)\n",
    "correct_side.mean(axis = 0).mean(axis = 1)*100"
   ]
  },
  {
   "cell_type": "code",
   "execution_count": 29,
   "id": "c8e0d2c3",
   "metadata": {},
   "outputs": [
    {
     "data": {
      "text/plain": [
       "array([70.61, 68.88, 81.41, 85.8 , 88.16])"
      ]
     },
     "execution_count": 29,
     "metadata": {},
     "output_type": "execute_result"
    }
   ],
   "source": [
    "np.ma.masked_where(np.logical_or(~test_type_0,(dist<=0)),correct_side).mean(axis =2).mean(axis = 0).data*100"
   ]
  },
  {
   "cell_type": "code",
   "execution_count": 24,
   "id": "07c5d117",
   "metadata": {},
   "outputs": [
    {
     "data": {
      "text/plain": [
       "array([92.34, 94.01, 96.77, 97.06, 97.66])"
      ]
     },
     "execution_count": 24,
     "metadata": {},
     "output_type": "execute_result"
    }
   ],
   "source": [
    "np.ma.masked_where(np.logical_or(~test_type_1,(dist<=0)),correct_side).mean(axis =2).mean(axis = 0).data*100"
   ]
  },
  {
   "cell_type": "code",
   "execution_count": 21,
   "id": "6ccbab3f",
   "metadata": {},
   "outputs": [
    {
     "data": {
      "text/plain": [
       "array([69.22, 73.64, 83.8 , 87.3 , 92.9 ])"
      ]
     },
     "execution_count": 21,
     "metadata": {},
     "output_type": "execute_result"
    }
   ],
   "source": [
    "np.ma.masked_where(np.logical_or(~test_type_2,(dist<=0)),correct_side).mean(axis =2).mean(axis = 0).data*100"
   ]
  },
  {
   "cell_type": "code",
   "execution_count": null,
   "id": "517d1286",
   "metadata": {},
   "outputs": [],
   "source": [
    "(np.logical_or(types_test==2,dist>0),dist)"
   ]
  },
  {
   "cell_type": "code",
   "execution_count": 8,
   "id": "d0030f19",
   "metadata": {},
   "outputs": [
    {
     "data": {
      "text/plain": [
       "array([77.3 , 78.9 , 86.2 , 90.34, 94.54])"
      ]
     },
     "execution_count": 8,
     "metadata": {},
     "output_type": "execute_result"
    }
   ],
   "source": [
    "np.ma.masked_where(~(types_test==2),correct_side).mean(axis = 0).mean(axis = 1).data*100\n",
    "correct_side.mean(axis = 0).mean(axis = 1)*100"
   ]
  },
  {
   "cell_type": "code",
   "execution_count": null,
   "id": "b14b3d7c",
   "metadata": {},
   "outputs": [],
   "source": [
    "correct_side[types_test==0].mean()"
   ]
  },
  {
   "cell_type": "code",
   "execution_count": 31,
   "id": "95dee913",
   "metadata": {},
   "outputs": [
    {
     "data": {
      "text/plain": [
       "array([35.84, 41.36, 63.3 , 78.58, 88.84])"
      ]
     },
     "execution_count": 31,
     "metadata": {},
     "output_type": "execute_result"
    }
   ],
   "source": [
    "np.ma.masked_where(~test_type_0,correct_side).mean(axis = 2).mean(axis = 0).data*100"
   ]
  },
  {
   "cell_type": "code",
   "execution_count": 34,
   "id": "86fd6c32",
   "metadata": {},
   "outputs": [
    {
     "data": {
      "text/plain": [
       "array([97.84, 97.14, 97.5 , 96.4 , 97.64])"
      ]
     },
     "execution_count": 34,
     "metadata": {},
     "output_type": "execute_result"
    }
   ],
   "source": [
    "np.ma.masked_where(~test_type_2,correct_side).mean(axis = 2).mean(axis = 0).data*100"
   ]
  },
  {
   "cell_type": "code",
   "execution_count": null,
   "id": "cd5c1cf6",
   "metadata": {},
   "outputs": [],
   "source": [
    "np.ma.masked_where(~test_type_2,correct_side).mean(axis = 2).mean(axis = 0).data*100"
   ]
  },
  {
   "cell_type": "code",
   "execution_count": null,
   "id": "f157d354",
   "metadata": {},
   "outputs": [],
   "source": []
  },
  {
   "cell_type": "code",
   "execution_count": null,
   "id": "13fb3ef6",
   "metadata": {},
   "outputs": [],
   "source": [
    "correct_side.mean(axis = 2).mean(axis = 0)*100"
   ]
  },
  {
   "cell_type": "code",
   "execution_count": null,
   "id": "c92f807c",
   "metadata": {},
   "outputs": [],
   "source": []
  },
  {
   "cell_type": "markdown",
   "id": "c7177821",
   "metadata": {},
   "source": [
    "### Overlapping"
   ]
  },
  {
   "cell_type": "code",
   "execution_count": 6,
   "id": "47cb664c",
   "metadata": {},
   "outputs": [],
   "source": [
    "overl,dist_o = experiment_4.overl_dist_iterations(preds_test, X_types_test_iterations)#dist -1 tamo gde je overlaping>0 i obrnuto"
   ]
  },
  {
   "cell_type": "code",
   "execution_count": 7,
   "id": "f0cc1d1c",
   "metadata": {},
   "outputs": [
    {
     "ename": "NameError",
     "evalue": "name 'correct_side' is not defined",
     "output_type": "error",
     "traceback": [
      "\u001b[1;31m---------------------------------------------------------------------------\u001b[0m",
      "\u001b[1;31mNameError\u001b[0m                                 Traceback (most recent call last)",
      "Cell \u001b[1;32mIn[7], line 1\u001b[0m\n\u001b[1;32m----> 1\u001b[0m np\u001b[38;5;241m.\u001b[39mma\u001b[38;5;241m.\u001b[39mmasked_where(np\u001b[38;5;241m.\u001b[39mlogical_or(\u001b[38;5;241m~\u001b[39m(types_test\u001b[38;5;241m==\u001b[39m\u001b[38;5;241m0\u001b[39m),\u001b[38;5;241m~\u001b[39m\u001b[43mcorrect_side\u001b[49m),dist_o\u001b[38;5;241m>\u001b[39m\u001b[38;5;241m0\u001b[39m)\u001b[38;5;241m.\u001b[39mmean(axis \u001b[38;5;241m=\u001b[39m \u001b[38;5;241m2\u001b[39m)\u001b[38;5;241m.\u001b[39mmean(axis \u001b[38;5;241m=\u001b[39m \u001b[38;5;241m0\u001b[39m)\u001b[38;5;241m.\u001b[39mdata\u001b[38;5;241m*\u001b[39m\u001b[38;5;241m100\u001b[39m\n",
      "\u001b[1;31mNameError\u001b[0m: name 'correct_side' is not defined"
     ]
    }
   ],
   "source": [
    "np.ma.masked_where(np.logical_or(~(types_test==0),~correct_side),dist_o>0).mean(axis = 2).mean(axis = 0).data*100"
   ]
  },
  {
   "cell_type": "code",
   "execution_count": 47,
   "id": "059fd3d4",
   "metadata": {},
   "outputs": [
    {
     "data": {
      "text/plain": [
       "array([13.28, 15.99, 14.86,  8.97,  4.13])"
      ]
     },
     "execution_count": 47,
     "metadata": {},
     "output_type": "execute_result"
    }
   ],
   "source": [
    "np.ma.masked_where(np.logical_or(~(types_test==0),~correct_side),dist_o).mean(axis = 2).mean(axis = 0).data"
   ]
  },
  {
   "cell_type": "code",
   "execution_count": 8,
   "id": "1072137e",
   "metadata": {},
   "outputs": [
    {
     "data": {
      "text/plain": [
       "array([69.31, 77.32, 87.69, 92.04, 95.89])"
      ]
     },
     "execution_count": 8,
     "metadata": {},
     "output_type": "execute_result"
    }
   ],
   "source": [
    "np.ma.masked_where(~ (types_test==2),dist_o>0).mean(axis = 2).mean(axis = 0).data*100"
   ]
  },
  {
   "cell_type": "code",
   "execution_count": 10,
   "id": "507c5891",
   "metadata": {},
   "outputs": [
    {
     "data": {
      "text/plain": [
       "array([41.07, 41.24, 56.42, 67.19, 72.59])"
      ]
     },
     "execution_count": 10,
     "metadata": {},
     "output_type": "execute_result"
    }
   ],
   "source": [
    "np.ma.masked_where(~ (types_test==2),dist_o).mean(axis = 2).mean(axis = 0).data"
   ]
  },
  {
   "cell_type": "code",
   "execution_count": null,
   "id": "a8c545e5",
   "metadata": {},
   "outputs": [],
   "source": [
    "np.ma.masked_where(np.logical_or(~(types_test==1),~correct_side),overl==0).mean(axis = 2).mean(axis = 0).data*100"
   ]
  },
  {
   "cell_type": "code",
   "execution_count": 17,
   "id": "386ae752",
   "metadata": {},
   "outputs": [
    {
     "data": {
      "text/plain": [
       "array([16.52, 11.59,  3.04,  1.58,  0.59])"
      ]
     },
     "execution_count": 17,
     "metadata": {},
     "output_type": "execute_result"
    }
   ],
   "source": [
    "np.ma.masked_where(np.logical_or(~(types_test==2),~correct_side),overl>0).mean(axis = 2).mean(axis = 0).data*100"
   ]
  },
  {
   "cell_type": "code",
   "execution_count": null,
   "id": "52b7c7d0",
   "metadata": {},
   "outputs": [],
   "source": [
    "np.ma.masked_where(types_test==2,dist_o==0).mean(axis = 2).mean(axis = 0).data*100"
   ]
  },
  {
   "cell_type": "code",
   "execution_count": null,
   "id": "234ffee0",
   "metadata": {},
   "outputs": [],
   "source": [
    "np.ma.masked_where(np.logical_or(types_test==2,~correct_side),dist>0).mean(axis = 2).mean(axis = 0).data*100"
   ]
  },
  {
   "cell_type": "code",
   "execution_count": null,
   "id": "3c7fb110",
   "metadata": {},
   "outputs": [],
   "source": [
    "np.ma.masked_where(np.logical_or(~(types_test==0),~correct_side),dist>0).mean(axis = 2).mean(axis = 0).data*100"
   ]
  },
  {
   "cell_type": "code",
   "execution_count": null,
   "id": "e55ad6b1",
   "metadata": {},
   "outputs": [],
   "source": [
    "np.ma.masked_where(np.logical_or(~(types_test==0),~correct_side),overl>0).mean(axis = 2).mean(axis = 0).data*100"
   ]
  },
  {
   "cell_type": "code",
   "execution_count": 51,
   "id": "d72fc1eb",
   "metadata": {},
   "outputs": [
    {
     "data": {
      "text/plain": [
       "array([63.54, 55.43, 32.64, 27.59, 18.12])"
      ]
     },
     "execution_count": 51,
     "metadata": {},
     "output_type": "execute_result"
    }
   ],
   "source": [
    "## Distance area\n",
    "np.ma.masked_where(np.logical_or(np.logical_or(~(types_test==1),~correct_side),dist_o<=0),dist_o).mean(axis = 2).mean(axis = 0).data"
   ]
  },
  {
   "cell_type": "code",
   "execution_count": 50,
   "id": "3e77e814",
   "metadata": {},
   "outputs": [
    {
     "data": {
      "text/plain": [
       "array([31.22, 25.89, 18.03, 23.24, 13.12])"
      ]
     },
     "execution_count": 50,
     "metadata": {},
     "output_type": "execute_result"
    }
   ],
   "source": [
    "##overlaping area\n",
    "np.ma.masked_where(np.logical_or(np.logical_or(~(types_test==2),~correct_side),overl<=0),overl).mean(axis = 2).mean(axis = 0).data"
   ]
  },
  {
   "cell_type": "code",
   "execution_count": 125,
   "id": "2c68591f",
   "metadata": {},
   "outputs": [
    {
     "data": {
      "text/plain": [
       "{'whiskers': [<matplotlib.lines.Line2D at 0x21c0b54f310>,\n",
       "  <matplotlib.lines.Line2D at 0x21c0b54f5b0>],\n",
       " 'caps': [<matplotlib.lines.Line2D at 0x21c0b54f850>,\n",
       "  <matplotlib.lines.Line2D at 0x21c0b54faf0>],\n",
       " 'boxes': [<matplotlib.lines.Line2D at 0x21c0b54f070>],\n",
       " 'medians': [<matplotlib.lines.Line2D at 0x21c0b54fd90>],\n",
       " 'fliers': [<matplotlib.lines.Line2D at 0x21c0b58c070>],\n",
       " 'means': []}"
      ]
     },
     "execution_count": 125,
     "metadata": {},
     "output_type": "execute_result"
    },
    {
     "data": {
      "image/png": "[encoded data removed]",
      "text/plain": [
       "<Figure size 640x480 with 1 Axes>"
      ]
     },
     "metadata": {},
     "output_type": "display_data"
    }
   ],
   "source": [
    "import matplotlib.pyplot as plt\n",
    "l9a = np.ma.masked_where(np.logical_or(np.logical_or(~(types_test==0),~correct_side),dist_o<=0),dist_o)[:,4,:].mean(axis = 0)\n",
    "\n",
    "l9b = np.ma.masked_where(np.logical_or(np.logical_or(~(types_test==1),~correct_side),dist_o<=0),dist_o)[:,4,:].mean(axis = 0)\n",
    "\n",
    "plt.boxplot(l9a,positions =[1])\n",
    "plt.boxplot(l9b,positions = [2])\n",
    "#plt.savefig(\"F:/Jelena/FAKULTET/Student/DOKTORAT/radovi/nase/2. rad/applied ai/tabels/imgs/box_lt9ab.png\")\n"
   ]
  },
  {
   "cell_type": "code",
   "execution_count": 157,
   "id": "cf7b9836",
   "metadata": {},
   "outputs": [],
   "source": [
    "\n",
    "\n",
    "### crta sve sa fg exp\n",
    "\n",
    "\n",
    "# l6 = np.loadtxt('l6.txt')\n",
    "# l7 = np.loadtxt('l7.txt')\n",
    "# l9a = np.ma.masked_where(np.logical_or(np.logical_or(~(types_test==0),~correct_side),dist_o<=0),dist_o)[:,:,:].mean(axis = 0)\n",
    "\n",
    "# l9b = np.ma.masked_where(np.logical_or(np.logical_or(~(types_test==1),~correct_side),dist_o<=0),dist_o)[:,:,:].mean(axis = 0)\n",
    "\n",
    "# # for i in range(5):\n",
    "# #     plt.boxplot(l9a[i], positions=[i + 1.1], labels=['X{}'.format(i + 1)])\n",
    "# num_groups = 5\n",
    "# idx = 1\n",
    "# # Width of each box\n",
    "# box_width = 0.35\n",
    "# for i in range(2,5):\n",
    "\n",
    "#     plt.boxplot([l6[i],l7[i],l9a[i],l9b[i]], positions=[idx +x for x in range(0,4)], widths = 0.4)\n",
    "#     idx = idx + 5\n",
    "# plt.savefig(\"F:/Jelena/FAKULTET/Student/DOKTORAT/radovi/nase/2. rad/applied ai/tabels/imgs/box_lt679_ts500154k.png\")\n",
    "# # plt.xticks([1,2,3,4,5],['100', '200', '500','1000','4000'])"
   ]
  },
  {
   "cell_type": "code",
   "execution_count": null,
   "id": "521f3aa6",
   "metadata": {},
   "outputs": [],
   "source": []
  },
  {
   "cell_type": "code",
   "execution_count": 139,
   "id": "c87c357e",
   "metadata": {},
   "outputs": [
    {
     "data": {
      "text/plain": [
       "(5, 1000)"
      ]
     },
     "execution_count": 139,
     "metadata": {},
     "output_type": "execute_result"
    }
   ],
   "source": [
    "l9b.shape"
   ]
  },
  {
   "cell_type": "code",
   "execution_count": null,
   "id": "d3826bca",
   "metadata": {},
   "outputs": [],
   "source": []
  },
  {
   "cell_type": "code",
   "execution_count": 128,
   "id": "80f8daf8",
   "metadata": {},
   "outputs": [
    {
     "data": {
      "text/plain": [
       "(5, 1000)"
      ]
     },
     "execution_count": 128,
     "metadata": {},
     "output_type": "execute_result"
    }
   ],
   "source": [
    "l9a.shape"
   ]
  },
  {
   "cell_type": "code",
   "execution_count": null,
   "metadata": {},
   "outputs": [],
   "source": []
  },
  {
   "cell_type": "code",
   "execution_count": 158,
   "id": "77d86da6",
   "metadata": {},
   "outputs": [],
   "source": [
    "# proveravala sam da li su dobri tr primeri jer mi pbili neobicni rezultati\n",
    "#ex = 1\n",
    "# print(np.argwhere(X_types_test_iterations[types_test==1][1][0]==1))\n",
    "# Y_types_test_iterations[types_test==1][1].sum()"
   ]
  },
  {
   "cell_type": "code",
   "execution_count": 85,
   "id": "e3132001",
   "metadata": {},
   "outputs": [
    {
     "data": {
      "text/plain": [
       "(8270, 6, 600)"
      ]
     },
     "execution_count": 85,
     "metadata": {},
     "output_type": "execute_result"
    }
   ],
   "source": [
    "X_types_test_iterations[types_test==1][1]1"
   ]
  },
  {
   "cell_type": "code",
   "execution_count": 84,
   "id": "1c3abb46",
   "metadata": {},
   "outputs": [
    {
     "data": {
      "text/plain": [
       "(5, 5, 1000)"
      ]
     },
     "execution_count": 84,
     "metadata": {},
     "output_type": "execute_result"
    }
   ],
   "source": [
    "types_test.shape"
   ]
  },
  {
   "cell_type": "code",
   "execution_count": null,
   "id": "81781317",
   "metadata": {},
   "outputs": [],
   "source": [
    "np.ma.masked_where(np.logical_or(~types_test==0,~correct_side),dist).mean(axis = 2).mean(axis = 0).data"
   ]
  },
  {
   "cell_type": "code",
   "execution_count": null,
   "id": "c911bfb9",
   "metadata": {},
   "outputs": [],
   "source": [
    "((Y_types_test_iterations[:,:,:,0] == 1) | (Y_types_test_iterations[:,:,:,0] != 1)).sum(axis = 2)"
   ]
  },
  {
   "cell_type": "code",
   "execution_count": null,
   "id": "efe5f85e",
   "metadata": {},
   "outputs": [],
   "source": [
    "np.ma.masked_where(dist<=0,dist).mean(axis = 2).mean(axis = 0)"
   ]
  },
  {
   "cell_type": "code",
   "execution_count": null,
   "id": "c41325d9",
   "metadata": {},
   "outputs": [],
   "source": [
    "np.ma.masked_where(dist<=0,dist).mean(axis = 2).mean(axis = 0)"
   ]
  },
  {
   "cell_type": "markdown",
   "id": "c5e50330",
   "metadata": {},
   "source": [
    "## Overlaping kad ga stavlja blize levoj ili desnoj ivici"
   ]
  },
  {
   "cell_type": "code",
   "execution_count": null,
   "id": "b15a64b8",
   "metadata": {},
   "outputs": [],
   "source": [
    "np.ma.masked_where(np.logical_or(~left_pred,test_type_2),overl>0).mean(axis = 2).mean(axis = 0).data *100"
   ]
  },
  {
   "cell_type": "code",
   "execution_count": null,
   "id": "849df874",
   "metadata": {},
   "outputs": [],
   "source": [
    "np.ma.masked_where(np.logical_or(~right_pred,test_type_2),overl>0).mean(axis = 2).mean(axis = 0).data *100"
   ]
  },
  {
   "cell_type": "code",
   "execution_count": null,
   "id": "c1f5c00b",
   "metadata": {},
   "outputs": [],
   "source": [
    "np.ma.masked_where(np.logical_or(~right_pred,test_type_2),overl>0).mean(axis = 2).mean(axis = 0).data *100"
   ]
  },
  {
   "cell_type": "code",
   "execution_count": null,
   "id": "86e80a4d",
   "metadata": {},
   "outputs": [],
   "source": [
    "np.ma.masked_where(np.logical_or(test_type_2,np.logical_or(~right_pred,overl<=0)),overl).mean(axis = 2).mean(axis = 0).data"
   ]
  },
  {
   "cell_type": "code",
   "execution_count": null,
   "id": "09d04153",
   "metadata": {},
   "outputs": [],
   "source": [
    "np.where(X_types_test_iterations[0,0,1,0])"
   ]
  },
  {
   "cell_type": "markdown",
   "id": "0c058f60",
   "metadata": {},
   "source": [
    "## Overlaping kad ga stavlja s leve ili desne strane\n"
   ]
  },
  {
   "cell_type": "code",
   "execution_count": null,
   "id": "5c8ba030",
   "metadata": {},
   "outputs": [],
   "source": [
    "dist.shape"
   ]
  },
  {
   "cell_type": "code",
   "execution_count": null,
   "id": "c050417e",
   "metadata": {},
   "outputs": [],
   "source": [
    "dist[dist>0]"
   ]
  },
  {
   "cell_type": "code",
   "execution_count": null,
   "id": "85aef861",
   "metadata": {},
   "outputs": [],
   "source": [
    " np.where(dist>0)"
   ]
  },
  {
   "cell_type": "code",
   "execution_count": null,
   "id": "e71bb44d",
   "metadata": {},
   "outputs": [],
   "source": [
    "np.where(X_types_test_iterations[0,0,60,0]==1)"
   ]
  },
  {
   "cell_type": "code",
   "execution_count": null,
   "id": "7bd293f3",
   "metadata": {},
   "outputs": [],
   "source": [
    "np.where(X_types_test_iterations[0,0,60,1]==1)"
   ]
  },
  {
   "cell_type": "code",
   "execution_count": null,
   "id": "2921cdb2",
   "metadata": {},
   "outputs": [],
   "source": [
    "np.where(Y_types_test_iterations[0,0,60]==1)"
   ]
  },
  {
   "cell_type": "code",
   "execution_count": null,
   "id": "c77939b0",
   "metadata": {},
   "outputs": [],
   "source": [
    "np.ma.masked_where(dist>0,dist)"
   ]
  },
  {
   "cell_type": "code",
   "execution_count": null,
   "id": "66bf3867",
   "metadata": {},
   "outputs": [],
   "source": [
    "# left_pred_0 = left_pred[test_type_0]\n",
    "# left_pred_1 = left_pred[test_type_1]\n",
    "# left_pred_2 = left_pred[test_type_2]\n",
    "\n",
    "# right_pred_0 = right_pred[test_type_0]\n",
    "# right_pred_1 = right_pred[test_type_1]\n",
    "# right_pred_2 = right_pred[test_type_2]\n",
    "\n",
    "\n",
    "# left_test_0 = left_test[test_type_0]\n",
    "# left_test_1 = left_test[test_type_1]\n",
    "# left_test_2 = left_test[test_type_2]\n",
    "\n",
    "# right_test_0 = right_test[test_type_0]\n",
    "# right_test_1 = right_test[test_type_1]\n",
    "# right_test_2 = right_test[test_type_2]\n"
   ]
  }
 ],
 "metadata": {
  "kernelspec": {
   "display_name": "Python 3",
   "language": "python",
   "name": "python3"
  },
  "language_info": {
   "codemirror_mode": {
    "name": "ipython",
    "version": 3
   },
   "file_extension": ".py",
   "mimetype": "text/x-python",
   "name": "python",
   "nbconvert_exporter": "python",
   "pygments_lexer": "ipython3",
   "version": "3.10.13"
  }
 },
 "nbformat": 4,
 "nbformat_minor": 5
}

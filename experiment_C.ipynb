{
 "cells": [
  {
   "cell_type": "code",
   "execution_count": 1,
   "id": "ee75142d",
   "metadata": {},
   "outputs": [
    {
     "data": {
      "text/plain": [
       "<module 'experiment_2' from 'f:\\\\Jelena\\\\FAKULTET\\\\Student\\\\DOKTORAT\\\\projekat 2rad\\\\oop\\\\experiment_2.py'>"
      ]
     },
     "execution_count": 1,
     "metadata": {},
     "output_type": "execute_result"
    }
   ],
   "source": [
    "import importlib\n",
    "experiment_1 = importlib.import_module(\"experiment 1\")\n",
    "importlib.reload(experiment_1)\n",
    "import importlib\n",
    "generate_dataset = importlib.import_module(\"generate_dataset\")\n",
    "importlib.reload(generate_dataset)\n",
    "\n",
    "\n",
    "\n",
    "import importlib\n",
    "\n",
    "experiment_2 = importlib.import_module(\"experiment_2\")\n",
    "importlib.reload(experiment_2)"
   ]
  },
  {
   "cell_type": "code",
   "execution_count": 2,
   "id": "4eed8bf7",
   "metadata": {},
   "outputs": [],
   "source": [
    "from generate_dataset import *\n",
    "from neural_net import *\n",
    "from plotting import *\n",
    "from postprocessing_dataset import *\n",
    "from predicting import *\n",
    "from preprocessing_dataset import *\n",
    "from testing import *\n",
    "import json\n",
    "np.set_printoptions(precision=2)"
   ]
  },
  {
   "cell_type": "code",
   "execution_count": null,
   "id": "e2783ec8",
   "metadata": {},
   "outputs": [],
   "source": [
    "side, dataa = generate_dataset.generate_raw_dataset_G(5000,600)\n",
    "#"
   ]
  },
  {
   "cell_type": "code",
   "execution_count": null,
   "id": "5c5a903d",
   "metadata": {},
   "outputs": [],
   "source": [
    "experiment_2.export_dataset(dataa,\"data_ff.json\")"
   ]
  },
  {
   "cell_type": "code",
   "execution_count": null,
   "id": "4ff750cd",
   "metadata": {},
   "outputs": [],
   "source": [
    "experiment_2.import_dataset(\"data_D.json\")"
   ]
  },
  {
   "cell_type": "code",
   "execution_count": null,
   "id": "60303c8b",
   "metadata": {},
   "outputs": [],
   "source": [
    "data = experiment_2.import_dataset(\"data_C.json\")"
   ]
  },
  {
   "cell_type": "code",
   "execution_count": null,
   "id": "f66e5e4d",
   "metadata": {},
   "outputs": [],
   "source": []
  },
  {
   "cell_type": "markdown",
   "id": "d2d7d7ab",
   "metadata": {},
   "source": [
    "## Data diversity"
   ]
  },
  {
   "cell_type": "code",
   "execution_count": null,
   "id": "af7f7366",
   "metadata": {
    "scrolled": true
   },
   "outputs": [],
   "source": [
    "data = experiment_2.import_dataset(\"data_C.json\")\n",
    "data_train,data_test = experiment_1.make_train_test(data, 5000, 0)\n",
    "X_train = experiment_1.generate_2D_features_from_raw_dataset(data_train,600,2)\n",
    "dataset_prec_recall_per_type = experiment_1.measure_prec_recall_between_datasets(X_train[:,:2,:],X_train[:,:2,:])\n",
    "dataset_f1_per_type = experiment_1.measure_f1_between_datasets(dataset_prec_recall_per_type)"
   ]
  },
  {
   "cell_type": "code",
   "execution_count": null,
   "id": "40d115dd",
   "metadata": {},
   "outputs": [],
   "source": [
    "X_train.shape"
   ]
  },
  {
   "cell_type": "code",
   "execution_count": null,
   "id": "7d9e7b27",
   "metadata": {},
   "outputs": [],
   "source": [
    "### diversity za vise datasestova, pustis i ne razmisljas\n",
    "niz = []\n",
    "niz_fajlova = [\"data_B.json\"]\n",
    "num_objects = 5\n",
    "for fajl in niz_fajlova:\n",
    "    data = experiment_1.import_dataset(fajl)\n",
    "    data_train,data_test = experiment_1.make_train_test(data, 5000, 0)\n",
    "    ### kad tesstiras za A i B po\n",
    "    #experiment_1  za ostale experiment_2.\n",
    "    X_train = experiment_1.generate_2D_features_from_raw_dataset(data_train,600,num_objects)\n",
    "    dataset_prec_recall_per_type = experiment_1.measure_prec_recall_between_datasets(X_train[:,:num_objects,:],X_train[:,:num_objects,:])\n",
    "    dataset_f1_per_type = experiment_1.measure_f1_between_datasets(dataset_prec_recall_per_type)\n",
    "    a = (dataset_f1_per_type[:,:,:]).mean(axis = 1)\n",
    "    ld = experiment_1.leave_diagonal(a)\n",
    "    mean,sigma = experiment_1.plot_pdf_dataset(ld)\n",
    "    niz.append(experiment_1.plot_pdf_dataset(ld))\n",
    "    \n",
    "np.savetxt('mean_std_B.txt', np.array(niz)*100, fmt='%.2f')"
   ]
  },
  {
   "cell_type": "code",
   "execution_count": null,
   "id": "a129c42a",
   "metadata": {},
   "outputs": [],
   "source": [
    "#np.savetxt('mean_std_D_G.txt', np.array(niz)*100, fmt='%.2f')\n",
    "sigma\n"
   ]
  },
  {
   "cell_type": "code",
   "execution_count": null,
   "id": "9504f11d",
   "metadata": {},
   "outputs": [],
   "source": [
    "a = (dataset_f1_per_type[:,:,:]).mean(axis = 1)\n",
    "ld = experiment_1.leave_diagonal(a)\n",
    "mean,sigma = experiment_1.plot_pdf_dataset(ld)\n",
    "niz.append(experiment_1.plot_pdf_dataset(ld))"
   ]
  },
  {
   "cell_type": "code",
   "execution_count": null,
   "id": "fff437fb",
   "metadata": {},
   "outputs": [],
   "source": [
    "experiment_1.plot_pdf_dataset(ld)"
   ]
  },
  {
   "cell_type": "code",
   "execution_count": null,
   "id": "c2662df2",
   "metadata": {},
   "outputs": [],
   "source": [
    "niz.append(experiment_1.plot_pdf_dataset(ld))"
   ]
  },
  {
   "cell_type": "code",
   "execution_count": null,
   "id": "35098fcb",
   "metadata": {},
   "outputs": [],
   "source": [
    "np.savetxt('myfile.txt', np.array(niz), fmt='%.2f')"
   ]
  },
  {
   "cell_type": "markdown",
   "id": "e554f751",
   "metadata": {},
   "source": [
    "## Treniranje  i testiranje"
   ]
  },
  {
   "cell_type": "code",
   "execution_count": null,
   "id": "895bdd3b",
   "metadata": {},
   "outputs": [],
   "source": [
    "def experiment_C_G(data_train,data_test, train_set_sizes,testset_size,object_types_prediction,max_obj_types):\n",
    "    length_feature = 1\n",
    "    def reset_weights(model):\n",
    "        import keras.backend as K\n",
    "        session = K.get_session()\n",
    "        for layer in model.layers: \n",
    "            if hasattr(layer, 'kernel_initializer'): \n",
    "                layer.kernel.initializer.run(session=session)\n",
    "            if hasattr(layer, 'bias_initializer'):\n",
    "                layer.bias.initializer.run(session=session)  \n",
    "    precissions_types_train, recall_types_train,precissions_types_test, recall_types_test = [],[],[],[]\n",
    "    #object_types_prediction  = list(range(0,data_train[\"objects\"].shape[1]))\n",
    "    train_raw_dataset = experiment_2.make_train(data_train, train_set_sizes[0])\n",
    "    print(object_types_prediction)\n",
    "    X_test,Y_test = experiment_1.data_preprocessing(data_test,max_obj_types,length_feature,object_types_prediction)\n",
    "    print(X_test.shape)\n",
    "#     X_test = X_test[:,[0,1,4],:]\n",
    "    Xtrains = []\n",
    "    Ytrains = []\n",
    "    Xtest = []\n",
    "    Ytest = []\n",
    "    preds_train = []\n",
    "    preds_test = []\n",
    "    for train_size_id in range(len(train_set_sizes)):\n",
    "        if train_size_id > 0:        \n",
    "            train_raw_dataset = experiment_2.make_train(data_train, train_set_sizes[train_size_id])\n",
    "            reset_weights(model)\n",
    "\n",
    "        X_train,Y_train = experiment_1.data_preprocessing(train_raw_dataset,max_obj_types,length_feature,object_types_prediction)\n",
    "        print(\"shape\")\n",
    "        print(X_train.shape)\n",
    "#         X_train = X_train[:,[0,1,4],:] \n",
    "        model = run_nn((X_train, Y_train), (X_test, Y_test),5 )\n",
    "        pred_train = experiment_1.model_predict(model, X_train,length_feature,2)\n",
    "        pred_test = experiment_1.model_predict(model, X_test,length_feature,2)\n",
    "        \n",
    "        pred_train = experiment_1.arrange_object(pred_train, Y_train)\n",
    "        pred_test = experiment_1.arrange_object(pred_test, Y_test)\n",
    "\n",
    "        \n",
    "        precision_train_types, recall_train_types = precisions_recalls_types_ex(pred_train,Y_train,object_types_prediction)\n",
    "        precision_test_types, recall_test_types = precisions_recalls_types_ex(pred_test,Y_test,object_types_prediction)\n",
    "        precissions_types_train.append(precision_train_types)\n",
    "        recall_types_train.append(recall_train_types)\n",
    "        precissions_types_test.append(precision_test_types)\n",
    "        recall_types_test.append(recall_test_types)\n",
    "        Xtrains.append(X_train)\n",
    "        Ytrains.append(Y_train)\n",
    "        Xtest.append(X_test)\n",
    "        Ytest.append(Y_test)\n",
    "        preds_train.append(pred_train)\n",
    "        preds_test.append(pred_test)\n",
    "        \n",
    "    return precissions_types_train,recall_types_train,precissions_types_test,recall_types_test,Xtrains,Ytrains,Xtest,Ytest,preds_test,preds_train\n"
   ]
  },
  {
   "cell_type": "code",
   "execution_count": null,
   "id": "0a2a1259",
   "metadata": {},
   "outputs": [],
   "source": [
    "# max_object_types = 2\n",
    "# object_types_prediction  = list(range(0,max_object_types))\n",
    "# object_types_prediction = object_types_prediction[1:]\n",
    "# max_object_types = 2\n",
    "# data = experiment_2.import_dataset(\"data_D.json\")\n",
    "# data_train,data_test = experiment_2.make_train_test(data, 4000, 1000)\n",
    "# pr_tr,r_tr,p_ts,r_ts,x_tr,ytr,xts,yts,pred_test,pred_train = experiment_C_G(data_train,data_test, [100, 200,],1000,object_types_prediction,max_object_types)"
   ]
  },
  {
   "cell_type": "code",
   "execution_count": null,
   "id": "9c183eca",
   "metadata": {},
   "outputs": [],
   "source": [
    "max_object_types = 2\n",
    "object_types_prediction  = list(range(0,max_object_types))\n",
    "object_types_prediction = object_types_prediction[1:]\n",
    "data = experiment_2.import_dataset(\"data_f.json\")\n",
    "\n",
    "precissions_types_train_iterations = []# broj iteracija, broj razlicitih velicina trening skupa, broj tipova,broj primera\n",
    "recall_types_train_iterations = []\n",
    "precissions_types_test_iterations = []\n",
    "recall_types_test_iterations = []\n",
    "\n",
    "X_types_train_iterations = []# broj iteracija, broj razlicitih velicina trening skupa, broj tipova,broj primera\n",
    "Y_train_iterations = []\n",
    "X_types_test_iterations = []\n",
    "Y_types_test_iterations = []\n",
    "isti = []\n",
    "preds_train = []\n",
    "preds_test = []\n",
    "for i in range(0,5):\n",
    "    #data = import_dataset(\"data.json\")\n",
    "    data_train,data_test = experiment_2.make_train_test(data, 4000, 1000)\n",
    "\n",
    "    \n",
    "    precissions_types_train,recall_types_train,precissions_types_test,recall_types_test,a,b,c,d,pred_test,pred_train = experiment_C_G(data_train,data_test, [100, 200, 500, 1000, 4000],1000,object_types_prediction,max_object_types)\n",
    "    precissions_types_train_iterations.append(precissions_types_train)\n",
    "    recall_types_train_iterations.append(recall_types_train)\n",
    "    precissions_types_test_iterations.append(precissions_types_test)\n",
    "    recall_types_test_iterations.append(recall_types_test)\n",
    "    X_types_train_iterations.append(a)\n",
    "    Y_train_iterations.append(b)\n",
    "    X_types_test_iterations.append(c)\n",
    "    Y_types_test_iterations.append(d)\n",
    "    preds_train.append(pred_train)\n",
    "    preds_test.append(pred_test)\n",
    "    print(\"finish\")\n",
    "X_types_test_iterations = np.asarray(X_types_test_iterations)\n",
    "Y_types_test_iterations = np.asarray(Y_types_test_iterations)\n",
    "\n",
    "recall_types_test_iterations = np.asarray(recall_types_test_iterations)\n"
   ]
  },
  {
   "cell_type": "code",
   "execution_count": null,
   "id": "7ea5de3e",
   "metadata": {},
   "outputs": [],
   "source": [
    "X_types_test_iterations.shape"
   ]
  },
  {
   "cell_type": "code",
   "execution_count": null,
   "id": "768fe3d8",
   "metadata": {},
   "outputs": [],
   "source": [
    "X_types_test_iterations = np.asarray(X_types_test_iterations)\n",
    "Y_types_test_iterations = np.asarray(Y_types_test_iterations)\n",
    "\n",
    "precissions_types_train_iterations = np.asarray(precissions_types_train_iterations)\n",
    "precissions_types_test_iterations = np.asarray(precissions_types_test_iterations)\n",
    "\n",
    "recall_types_train_iterations = np.asarray(recall_types_train_iterations)\n",
    "recall_types_test_iterations = np.asarray(recall_types_test_iterations)\n",
    "\n",
    "preds_train,preds_test = np.asarray(preds_train),np.asarray(preds_test)"
   ]
  },
  {
   "cell_type": "code",
   "execution_count": null,
   "id": "858d3005",
   "metadata": {},
   "outputs": [],
   "source": [
    "# results = [precissions_types_train_iterations,recall_types_train_iterations,precissions_types_test_iterations,recall_types_test_iterations,X_types_train_iterations,Y_train_iterations,X_types_test_iterations,Y_types_test_iterations,preds_train,preds_test]\n",
    "# import pickle\n",
    "# with open(\"results_ff\", \"wb\") as fp:   #Pickling\n",
    "#     pickle.dump(results, fp)\n"
   ]
  },
  {
   "cell_type": "code",
   "execution_count": 60,
   "id": "074b6455",
   "metadata": {},
   "outputs": [],
   "source": [
    "import pickle\n",
    "file = open('results_f', 'rb')\n",
    "\n",
    "# dump information to that file\n",
    "data = pickle.load(file)\n",
    "precissions_types_train_iterations,recall_types_train_iterations,precissions_types_test_iterations,recall_types_test_iterations,X_types_train_iterations,Y_train_iterations,X_types_test_iterations,Y_types_test_iterations,preds_train,preds_test = data"
   ]
  },
  {
   "cell_type": "code",
   "execution_count": null,
   "id": "0adbb0ee",
   "metadata": {},
   "outputs": [],
   "source": []
  },
  {
   "cell_type": "code",
   "execution_count": null,
   "id": "961ab2f8",
   "metadata": {},
   "outputs": [],
   "source": [
    "f1 = experiment_1.f1_obj(precissions_types_test_iterations,recall_types_test_iterations)\n",
    "f1 = f1[:,:,0,:]"
   ]
  },
  {
   "cell_type": "code",
   "execution_count": null,
   "id": "e68aeb24",
   "metadata": {
    "scrolled": false
   },
   "outputs": [],
   "source": [
    "experiment_1.plot_f1_by_size(precissions_types_train_iterations,recall_types_train_iterations,'r')\n",
    "experiment_1.plot_f1_by_size(precissions_types_test_iterations,recall_types_test_iterations,'b')\n",
    "plt.legend([\"train\",\"test\"])\n",
    "plt.savefig(\"train_test_size\")"
   ]
  },
  {
   "cell_type": "markdown",
   "id": "282e60db",
   "metadata": {},
   "source": [
    "### Correct side"
   ]
  },
  {
   "cell_type": "markdown",
   "id": "8cc353a4",
   "metadata": {},
   "source": [
    "Sta je predvide na kojoj strani da se nalazi o2 u odnosu na o1"
   ]
  },
  {
   "cell_type": "code",
   "execution_count": 61,
   "id": "ddbc08e0",
   "metadata": {},
   "outputs": [],
   "source": [
    "\n",
    "left_pred,right_pred = experiment_2.to_the_left_to_o1(X_types_test_iterations[:,:,:,1,:],preds_test)"
   ]
  },
  {
   "cell_type": "code",
   "execution_count": 62,
   "id": "49bd75cd",
   "metadata": {},
   "outputs": [],
   "source": [
    "left_test,right_test = experiment_2.to_the_left_to_o1(X_types_test_iterations[:,:,:,1,:],Y_types_test_iterations)"
   ]
  },
  {
   "cell_type": "code",
   "execution_count": 63,
   "id": "a676b748",
   "metadata": {},
   "outputs": [],
   "source": [
    "correct_Side = (left_pred ==left_test)"
   ]
  },
  {
   "cell_type": "code",
   "execution_count": 64,
   "id": "5acd9518",
   "metadata": {},
   "outputs": [
    {
     "data": {
      "text/plain": [
       "array([94.  , 97.7 , 99.08, 99.44, 99.66])"
      ]
     },
     "execution_count": 64,
     "metadata": {},
     "output_type": "execute_result"
    }
   ],
   "source": [
    "correct_Side.mean(axis = 2).mean(axis = 0)*100"
   ]
  },
  {
   "cell_type": "code",
   "execution_count": null,
   "id": "d7bcf1a9",
   "metadata": {},
   "outputs": [],
   "source": []
  },
  {
   "cell_type": "code",
   "execution_count": null,
   "id": "47181720",
   "metadata": {},
   "outputs": [],
   "source": [
    "\n",
    "# correct_Side = (correct_Side.mean(axis = 2) * 100).mean(axis = 0)### usrednjavam po pbrou primera, pa po broju iteracija\n",
    "# # sizes = np.repeat([[100,200,500,1000,4000]],repeats = 5,axis = 0)\n",
    "# plt.plot([\"100\",\"200\",\"500\",\"1000\",\"4000\"],correct_Side,\"o-b\")\n",
    "\n",
    "# plt.title(\"correct side percentage\")\n",
    "# plt.savefig(\"correct side percentage\")"
   ]
  },
  {
   "cell_type": "markdown",
   "id": "f4b40c70",
   "metadata": {},
   "source": [
    "### F1 kad treba da predvidi levo i desno"
   ]
  },
  {
   "cell_type": "code",
   "execution_count": null,
   "id": "50966878",
   "metadata": {},
   "outputs": [],
   "source": [
    "right_f1 = np.ma.masked_where(left_test,f1).mean(axis = 0).mean(axis =1)"
   ]
  },
  {
   "cell_type": "code",
   "execution_count": null,
   "id": "9cfc4d5b",
   "metadata": {},
   "outputs": [],
   "source": [
    "left_f1 = np.ma.masked_where(right_test,f1).mean(axis = 0).mean(axis =1)"
   ]
  },
  {
   "cell_type": "code",
   "execution_count": null,
   "id": "d1d8c868",
   "metadata": {},
   "outputs": [],
   "source": [
    " #left\n",
    "np.ma.masked_where(right_pred,f1).mean(axis = 0).mean(axis =1).data *100"
   ]
  },
  {
   "cell_type": "code",
   "execution_count": null,
   "id": "c2251419",
   "metadata": {},
   "outputs": [],
   "source": [
    "#right\n",
    "np.ma.masked_where(left_pred,f1).mean(axis = 0).mean(axis =1).data * 100"
   ]
  },
  {
   "cell_type": "code",
   "execution_count": null,
   "id": "9879e236",
   "metadata": {},
   "outputs": [],
   "source": [
    "np.set_printoptions(precision=2)"
   ]
  },
  {
   "cell_type": "code",
   "execution_count": null,
   "id": "86f44939",
   "metadata": {},
   "outputs": [],
   "source": [
    "left_f1.data * 100"
   ]
  },
  {
   "cell_type": "code",
   "execution_count": null,
   "id": "194e73a4",
   "metadata": {},
   "outputs": [],
   "source": [
    "right_f1.data *100"
   ]
  },
  {
   "cell_type": "code",
   "execution_count": null,
   "id": "9d0fac39",
   "metadata": {},
   "outputs": [],
   "source": [
    "plt.plot([\"100\",\"200\",\"500\",\"1000\",\"5000\"],left_f1.data,\"o-r\")\n",
    "plt.plot([\"100\",\"200\",\"500\",\"1000\",\"5000\"],right_f1.data,\"o-b\")\n",
    "plt.legend([\"left\",\"right\"])\n",
    "plt.savefig(\"left_right\")"
   ]
  },
  {
   "cell_type": "code",
   "execution_count": null,
   "id": "39be45ed",
   "metadata": {},
   "outputs": [],
   "source": [
    "X_types_test_iterations[0][0][0][1]"
   ]
  },
  {
   "cell_type": "code",
   "execution_count": null,
   "id": "e965f585",
   "metadata": {},
   "outputs": [],
   "source": [
    "np.where(preds_test[0][0][227]==1)"
   ]
  },
  {
   "cell_type": "code",
   "execution_count": null,
   "id": "bd3a3995",
   "metadata": {},
   "outputs": [],
   "source": [
    "np.where(X_types_test_iterations[0][0][227][1]==1)"
   ]
  },
  {
   "cell_type": "code",
   "execution_count": null,
   "id": "2512d035",
   "metadata": {},
   "outputs": [],
   "source": [
    "np.where(X_types_test_iterations[0][0][227][0]==1)"
   ]
  },
  {
   "cell_type": "code",
   "execution_count": null,
   "id": "8d811be1",
   "metadata": {},
   "outputs": [],
   "source": [
    "np.where(correct[0][0] == 1)"
   ]
  },
  {
   "cell_type": "markdown",
   "id": "6874b99d",
   "metadata": {},
   "source": [
    "### Violation"
   ]
  },
  {
   "cell_type": "code",
   "execution_count": null,
   "id": "d2cb938d",
   "metadata": {},
   "outputs": [],
   "source": [
    "#kad prelazi granice prostora"
   ]
  },
  {
   "cell_type": "code",
   "execution_count": null,
   "id": "e782ec3c",
   "metadata": {},
   "outputs": [],
   "source": [
    "# def violation(pred,X_test):\n",
    "#     suma = []\n",
    "#     avg = 0\n",
    "#     correct = []\n",
    "#     for i in range(pred.shape[0]):\n",
    "#         if (pred[i].sum() != 0) :\n",
    "#             end = np.where(pred[i]==1)[0][-1]\n",
    "#             length = np.where(X_test[i][0]==1)[0][-1]\n",
    "#         #         print(end,length)\n",
    "#             if end > length:\n",
    "#                 suma.append(end - length)\n",
    "#             elif end == length:\n",
    "#                 correct.append(0)\n",
    "#             else:\n",
    "#                 suma.append(0)\n",
    "    \n",
    "#     return np.asarray(suma),np.asarray(correct)\n",
    "# # def violation_iteration_size(pred,X_test):\n",
    "# #     violations = []\n",
    "# #     for i in range(pred.shape[0]):#iteration\n",
    "# #         violations.append([violation(pred[i][j],X_test[i][j]) for j in range(0,pred.shape[1])])#size\n",
    "# #     return np.asarray(violations)\n",
    "\n",
    "# def violation_iteration_avg(pred,X_test):\n",
    "#     violations_all = []\n",
    "#     violations_all_count = []\n",
    "#     cor_all =[]\n",
    "#     for i in range(pred.shape[0]):#iteration\n",
    "#         violations  = []\n",
    "#         violations_count = []\n",
    "#         corrects = []\n",
    "#         for j in range(0,pred.shape[1]):\n",
    "#             niz,correct = violation(pred[i][j],X_test[i][j])\n",
    "#             nepreskace = niz == 0\n",
    "\n",
    "#             a = np.ma.masked_where(nepreskace,niz).mean(axis = 0)\n",
    "#             print(niz.shape)\n",
    "#             violations.append(a)\n",
    "#             violations_count.append((niz!=0).sum()/niz.shape[0]*100)\n",
    "#             corrects.append(correct.shape[0]/niz.shape[0]*100)\n",
    "#         violations_all_count.append(violations_count)\n",
    "#         violations_all.append(violations)\n",
    "#         cor_all.append(corrects)\n",
    "#     return np.asarray(violations_all), np.asarray(violations_all_count),np.asarray(cor_all)\n",
    "# #violations_all vraca prosecno preskakanje po iteraciji za razlicite  velicine tr skupa\n",
    "# #violations_all_count - vraca koliko preskacu po iteraciji za razlicite velicine tr skupa"
   ]
  },
  {
   "cell_type": "code",
   "execution_count": null,
   "id": "44c774ea",
   "metadata": {},
   "outputs": [],
   "source": [
    "violations,distance,correct = experiment_2.violation_iteration_avg(preds_test,X_types_test_iterations)"
   ]
  },
  {
   "cell_type": "code",
   "execution_count": null,
   "id": "c2642261",
   "metadata": {},
   "outputs": [],
   "source": []
  },
  {
   "cell_type": "code",
   "execution_count": null,
   "id": "92044238",
   "metadata": {},
   "outputs": [],
   "source": [
    "# kad predvidi da treba desno da ga stavi, koliko je dobar kad treba uz ivicu da ga stavi"
   ]
  },
  {
   "cell_type": "code",
   "execution_count": null,
   "id": "84d10e49",
   "metadata": {},
   "outputs": [],
   "source": [
    "#outside\n",
    "np.ma.masked_where(left_pred,violations>0).mean(2).mean(0).data * 100"
   ]
  },
  {
   "cell_type": "code",
   "execution_count": null,
   "id": "56b4a9a3",
   "metadata": {},
   "outputs": [],
   "source": [
    "#inside\n",
    "np.ma.masked_where(left_pred,distance>0).mean(2).mean(0).data * 100"
   ]
  },
  {
   "cell_type": "code",
   "execution_count": null,
   "id": "c9cdedaa",
   "metadata": {},
   "outputs": [],
   "source": [
    "#marginal\n",
    "np.ma.masked_where(left_pred,correct).mean(2).mean(0).data * 100"
   ]
  },
  {
   "cell_type": "code",
   "execution_count": null,
   "id": "59bf23c7",
   "metadata": {},
   "outputs": [],
   "source": [
    "# violations\n",
    "np.ma.masked_where(np.logical_or(left_pred, violations<=0),violations).mean(axis = 2).mean(axis=0).data"
   ]
  },
  {
   "cell_type": "code",
   "execution_count": null,
   "id": "7d1a26c2",
   "metadata": {},
   "outputs": [],
   "source": [
    "# distance\n",
    "np.ma.masked_where(np.logical_or(left_pred, distance<=0),distance).mean(axis = 2).mean(axis=0).data"
   ]
  },
  {
   "cell_type": "code",
   "execution_count": null,
   "id": "af897ce1",
   "metadata": {},
   "outputs": [],
   "source": [
    "# fig, ax1 = plt.subplots()\n",
    "\n",
    "\n",
    "# color = 'tab:red'\n",
    "# ax1.set_xlabel('training set size')\n",
    "# ax1.set_ylabel('mean violation', color=color)\n",
    "# lns1 = ax1.plot([\"100\",\"200\",\"500\",\"1000\",\"4000\"], viol.mean(axis = 0), color=color,label = 'mean violation',marker ='o')\n",
    "# ax1.tick_params(axis='y', labelcolor=color)\n",
    "  \n",
    "# ax2 = ax1.twinx()  # instantiate a second axes that shares the same x-axis\n",
    "\n",
    "\n",
    "# color = 'tab:blue'\n",
    "# ax2.set_ylabel('mean violated examples', color=color)  # we already handled the x-label with ax1\n",
    "# lns2 = ax2.plot([\"100\",\"200\",\"500\",\"1000\",\"4000\"], viol_count.mean(axis = 0), color=color,label = 'mean violated examples',marker ='o', linestyle = 'dotted')\n",
    "# ax2.set_ylim([0,100])\n",
    "# ax2.tick_params(axis='y', labelcolor=color)\n",
    "\n",
    "\n",
    "# # added these three lines\n",
    "# lns = lns1+lns2\n",
    "# labs = [l.get_label() for l in lns]\n",
    "# ax1.legend(lns, labs, loc=0)\n",
    "\n",
    "# fig.tight_layout()  # otherwise the right y-label is slightly clipped\n",
    "# plt.savefig(\"count and mean violation\")\n",
    "# plt.show()"
   ]
  },
  {
   "cell_type": "code",
   "execution_count": null,
   "id": "bc5c9978",
   "metadata": {},
   "outputs": [],
   "source": [
    "(Y_types_test_iterations[:,:,:,0] == 1).mean(axis = 2).mean(axis = 1)"
   ]
  },
  {
   "cell_type": "markdown",
   "id": "3875bbe7",
   "metadata": {},
   "source": [
    "#### Distance to the left edge"
   ]
  },
  {
   "cell_type": "code",
   "execution_count": null,
   "id": "9fec6200",
   "metadata": {},
   "outputs": [],
   "source": [
    "experiment_2 = importlib.import_module(\"experiment_2\")\n",
    "importlib.reload(experiment_2)"
   ]
  },
  {
   "cell_type": "code",
   "execution_count": null,
   "id": "1051f610",
   "metadata": {},
   "outputs": [],
   "source": [
    "wow =experiment_2.iterations_distance_left_edge(preds_test)"
   ]
  },
  {
   "cell_type": "code",
   "execution_count": null,
   "id": "163ef5b0",
   "metadata": {},
   "outputs": [],
   "source": []
  },
  {
   "cell_type": "code",
   "execution_count": null,
   "id": "865713b4",
   "metadata": {},
   "outputs": [],
   "source": []
  },
  {
   "cell_type": "code",
   "execution_count": null,
   "id": "46a94a73",
   "metadata": {},
   "outputs": [],
   "source": [
    "distance_left_edge = wow"
   ]
  },
  {
   "cell_type": "code",
   "execution_count": null,
   "id": "072a521d",
   "metadata": {},
   "outputs": [],
   "source": [
    "(right_pred == right).mean(axis = 2).mean(axis = 0)"
   ]
  },
  {
   "cell_type": "code",
   "execution_count": null,
   "id": "e968d131",
   "metadata": {},
   "outputs": [],
   "source": []
  },
  {
   "cell_type": "code",
   "execution_count": null,
   "id": "a65f7fa5",
   "metadata": {},
   "outputs": [],
   "source": [
    "np.logical_and(right_pred,wow==0)"
   ]
  },
  {
   "cell_type": "code",
   "execution_count": null,
   "id": "caec3efb",
   "metadata": {},
   "outputs": [],
   "source": [
    "### prosecna udaljenost primera od leve ivice\n",
    "np.ma.masked_where(np.logical_or(right_pred,wow==0),wow).mean(axis = 0).mean(axis =1).data"
   ]
  },
  {
   "cell_type": "code",
   "execution_count": null,
   "id": "b21712e5",
   "metadata": {},
   "outputs": [],
   "source": [
    "### procenat primera koji su stavljeni bas na levu ivicu\n",
    "np.ma.masked_where(right_pred,wow==0).mean(axis = 2).mean(axis = 0).data *100"
   ]
  },
  {
   "cell_type": "code",
   "execution_count": null,
   "id": "869cb98a",
   "metadata": {},
   "outputs": [],
   "source": [
    " # to the right prethodno reenje\n",
    "# space = experiment_2.avg_iterations_space(preds_test, X_types_test_iterations)\n",
    "# plt.plot(np.ma.masked_where(left_pred,space).mean(axis = 2).mean(axis = 0),\"o-r\")\n",
    "# plt.plot([\"100\",\"200\",\"500\",\"1000\",\"5000\"],viol.mean(axis = 0),\"o-b\")\n",
    "# plt.legend([\"space\",\"violation\"])"
   ]
  },
  {
   "cell_type": "code",
   "execution_count": null,
   "id": "423318ff",
   "metadata": {},
   "outputs": [],
   "source": []
  },
  {
   "cell_type": "code",
   "execution_count": null,
   "id": "ef6a81ff",
   "metadata": {},
   "outputs": [],
   "source": [
    "# x = [\"100\",\"200\",'500','1000','4000']\n",
    "# viol_perc = np.ma.masked_where(left_pred,outside).mean(axis = 0)\n",
    "# cor_perc = np.ma.masked_where(left_pred,marginal).mean(axis = 0)\n",
    "# insight_perc = [100,100,100,100,100] - viol_perc - cor_perc\n",
    "# plt.bar(x, cor_perc, color='r')\n",
    "# plt.bar(x, viol_perc, bottom=cor_perc, color='b')\n",
    "# plt.bar(x, insight_perc, bottom=cor_perc + viol_perc, color='y')\n",
    "\n",
    "# plt.xlabel(\"Teams\")\n",
    "# plt.ylabel(\"Score\")\n",
    "# plt.legend([\"Correct\", \"Outside\", \"Insight\"])\n",
    "# plt.title(\"Scores by Teams in 4 Rounds\")\n",
    "# plt.show()"
   ]
  },
  {
   "cell_type": "markdown",
   "id": "ff129e01",
   "metadata": {},
   "source": [
    "### OVerlapping and distance"
   ]
  },
  {
   "cell_type": "code",
   "execution_count": 65,
   "id": "75ef2fbb",
   "metadata": {},
   "outputs": [],
   "source": [
    "overl,dist = experiment_2.overl_dist_iterations(preds_test, X_types_test_iterations)#dist -1 tamo gde je overlaping>0 i obrnuto"
   ]
  },
  {
   "cell_type": "code",
   "execution_count": 3,
   "id": "3020417d",
   "metadata": {},
   "outputs": [
    {
     "data": {
      "text/plain": [
       "(5, 5, 1000, 600)"
      ]
     },
     "execution_count": 3,
     "metadata": {},
     "output_type": "execute_result"
    }
   ],
   "source": [
    "Y_types_test_iterations.shape"
   ]
  },
  {
   "cell_type": "code",
   "execution_count": 66,
   "id": "b11f65e8",
   "metadata": {},
   "outputs": [],
   "source": [
    "overl,dist = experiment_2.overl_dist_iterations(preds_test, X_types_test_iterations)#dist -1 tamo gde je overlaping>0 i obrnuto"
   ]
  },
  {
   "cell_type": "code",
   "execution_count": 79,
   "id": "ae836fd6",
   "metadata": {},
   "outputs": [
    {
     "data": {
      "image/png": "[encoded data removed]",
      "text/plain": [
       "<Figure size 640x480 with 1 Axes>"
      ]
     },
     "metadata": {},
     "output_type": "display_data"
    }
   ],
   "source": [
    "import pickle\n",
    "\n",
    "\n",
    "# dump information to that file\n",
    "file = open('results_f', 'rb')\n",
    "\n",
    "# dump information to that file\n",
    "data = pickle.load(file)\n",
    "\n",
    "\n",
    "\n",
    "precissions_types_train_iterations,recall_types_train_iterations,precissions_types_test_iterations,recall_types_test_iterations,X_types_train_iterations,Y_train_iterations,X_types_test_iterations,Y_types_test_iterations,preds_train,preds_test = data\n",
    "\n",
    "over6,dist6 = experiment_2.overl_dist_iterations(preds_test, X_types_test_iterations)#dist -1 tamo gde je overlaping>0 i obrnuto\n",
    "\n",
    "left_test,right_test = experiment_2.to_the_left_to_o1(X_types_test_iterations[:,:,:,1,:],Y_types_test_iterations)\n",
    "left_pred,right_pred = experiment_2.to_the_left_to_o1(X_types_test_iterations[:,:,:,1,:],preds_test)\n",
    "l6 =np.ma.masked_where(np.logical_or(right_pred,dist6<=0),dist6).mean(axis = 0)\n",
    "\n",
    "\n",
    "file = open('results_g', 'rb')\n",
    "\n",
    "# dump information to that file\n",
    "data = pickle.load(file)\n",
    "\n",
    "precissions_types_train_iterations,recall_types_train_iterations,precissions_types_test_iterations,recall_types_test_iterations,X_types_train_iterations,Y_train_iterations,X_types_test_iterations,Y_types_test_iterations,preds_train,preds_test = data\n",
    "\n",
    "over7,dist7 = experiment_2.overl_dist_iterations(preds_test, X_types_test_iterations)#dist -1 tamo gde je overlaping>0 i obrnuto\n",
    "\n",
    "l7 = np.ma.masked_where(dist7<=0,dist7).mean(axis = 0).data\n",
    "\n",
    "# for i in range(5):\n",
    "#     plt.boxplot(l9a[i], positions=[i + 1.1], labels=['X{}'.format(i + 1)])\n",
    "num_groups = 5\n",
    "idx = 1\n",
    "# Width of each box\n",
    "box_width = 0.35\n",
    "for i in range(2,5):\n",
    "\n",
    "    plt.boxplot([l6[i],l7[i]], positions=[idx,idx+1], widths = 0.6)\n",
    "    idx = idx + 3\n",
    "\n",
    "\n",
    "\n",
    "\n",
    "plt.savefig(\"F:/Jelena/FAKULTET/Student/DOKTORAT/radovi/nase/2. rad/applied ai/tabels/imgs/data_e_giss_box.png\")\n",
    "\n",
    "\n",
    "\n",
    "plt.show()\n",
    "np.savetxt('l6.txt', l6, fmt='%.2f')\n",
    "np.savetxt('l7.txt', l7, fmt='%.2f')\n"
   ]
  },
  {
   "cell_type": "code",
   "execution_count": 23,
   "id": "3051db26",
   "metadata": {},
   "outputs": [
    {
     "data": {
      "text/plain": [
       "array([70.8 , 74.1 , 73.68, 74.67, 74.77])"
      ]
     },
     "execution_count": 23,
     "metadata": {},
     "output_type": "execute_result"
    }
   ],
   "source": [
    "np.ma.masked_where(dist7<=0,dist7).mean(axis = 2).mean(axis = 0).data"
   ]
  },
  {
   "cell_type": "code",
   "execution_count": 5,
   "id": "1832571f",
   "metadata": {},
   "outputs": [
    {
     "data": {
      "text/plain": [
       "(5, 1000)"
      ]
     },
     "execution_count": 5,
     "metadata": {},
     "output_type": "execute_result"
    }
   ],
   "source": [
    "l6.shape"
   ]
  },
  {
   "cell_type": "code",
   "execution_count": 147,
   "id": "c15088ec",
   "metadata": {},
   "outputs": [
    {
     "data": {
      "image/png": "[encoded data removed]",
      "text/plain": [
       "<Figure size 640x480 with 1 Axes>"
      ]
     },
     "metadata": {},
     "output_type": "display_data"
    },
    {
     "data": {
      "image/png": "[encoded data removed]",
      "text/plain": [
       "<Figure size 640x480 with 1 Axes>"
      ]
     },
     "metadata": {},
     "output_type": "display_data"
    }
   ],
   "source": [
    "# data = [overl.mean(axis = 0)[x][overl[0,0]>0 & left_pred[0][0]] for x in range(0,5)]\n",
    "# plt.boxplot(data,widths=0.1, patch_artist=True )\n",
    "# plt.savefig(\"F:/Jelena/FAKULTET/Student/DOKTORAT/radovi/nase/2. rad/applied ai/tabels/imgs/data_f_overl_box.png\")\n",
    "# plt.yticks(np.arange(0, ymax, 5)) \n",
    "# plt.ylim([ymin,ymax])\n",
    "\n",
    "\n",
    "# plt.xlim([xmin,xmax])\n",
    "\n",
    "\n",
    "\n",
    "\n",
    "\n",
    "# data = [dist.mean(axis = 0)[x] for x in range(0,5)]\n",
    "# plt.boxplot(data,widths=0.1, patch_artist=True)\n",
    "# plt.savefig(\"F:/Jelena/FAKULTET/Student/DOKTORAT/radovi/nase/2. rad/applied ai/tabels/imgs/data_g_dist_box.png\")\n",
    "# plt.yticks(np.arange(0, ymax, 5)) \n",
    "# plt.ylim([ymin,ymax])\n",
    "\n",
    "\n",
    "# plt.xlim([xmin,xmax])\n",
    "\n",
    "# plt.show()\n",
    "\n",
    "# data = [overl.mean(axis = 0)[x][overl[0,0]>0 & left_pred[0][0]] for x in range(0,5)]\n",
    "# plt.boxplot(data,widths=0.1, patch_artist=True )\n",
    "# plt.yticks(np.arange(0, ymax, 5)) \n",
    "# plt.ylim([ymin,ymax])\n",
    "\n",
    "\n",
    "# plt.xlim([xmin,xmax])\n",
    "\n",
    "# plt.savefig(\"F:/Jelena/FAKULTET/Student/DOKTORAT/radovi/nase/2. rad/applied ai/tabels/imgs/data_g_overl_box.png\")"
   ]
  },
  {
   "cell_type": "code",
   "execution_count": null,
   "id": "213dfc82",
   "metadata": {},
   "outputs": [],
   "source": []
  },
  {
   "cell_type": "code",
   "execution_count": null,
   "id": "9260a18d",
   "metadata": {},
   "outputs": [],
   "source": []
  },
  {
   "cell_type": "code",
   "execution_count": null,
   "id": "318d89e1",
   "metadata": {},
   "outputs": [],
   "source": [
    "\n"
   ]
  },
  {
   "cell_type": "code",
   "execution_count": 40,
   "id": "9631c5f6",
   "metadata": {},
   "outputs": [
    {
     "data": {
      "text/plain": [
       "(5, 5, 1000)"
      ]
     },
     "execution_count": 40,
     "metadata": {},
     "output_type": "execute_result"
    }
   ],
   "source": [
    "dist.shape"
   ]
  },
  {
   "cell_type": "code",
   "execution_count": 116,
   "id": "09d49761",
   "metadata": {},
   "outputs": [
    {
     "data": {
      "text/plain": [
       "(5, 1000)"
      ]
     },
     "execution_count": 116,
     "metadata": {},
     "output_type": "execute_result"
    }
   ],
   "source": [
    "np.ma.masked_where(np.logical_or(left_pred,overl<=0),overl).mean(axis = 0).shape"
   ]
  },
  {
   "cell_type": "code",
   "execution_count": 67,
   "id": "a635ecc3",
   "metadata": {},
   "outputs": [
    {
     "data": {
      "text/plain": [
       "array([24.72, 15.07,  5.13,  3.29,  1.98])"
      ]
     },
     "execution_count": 67,
     "metadata": {},
     "output_type": "execute_result"
    }
   ],
   "source": [
    "# Intersection left\n",
    "np.ma.masked_where(np.logical_or(right_pred,overl<=0),overl).mean(axis = 2).mean(axis = 0).data"
   ]
  },
  {
   "cell_type": "code",
   "execution_count": 68,
   "id": "8f8a93df",
   "metadata": {},
   "outputs": [
    {
     "data": {
      "text/plain": [
       "array([31.21, 20.63, 13.37,  8.44,  2.79])"
      ]
     },
     "execution_count": 68,
     "metadata": {},
     "output_type": "execute_result"
    }
   ],
   "source": [
    "#Intersection right\n",
    "np.ma.masked_where(np.logical_or(left_pred,overl<=0),overl).mean(axis = 2).mean(axis = 0).data"
   ]
  },
  {
   "cell_type": "code",
   "execution_count": 69,
   "id": "a35bf4c3",
   "metadata": {},
   "outputs": [
    {
     "data": {
      "text/plain": [
       "array([25.14, 15.57,  5.44,  3.42,  2.03])"
      ]
     },
     "execution_count": 69,
     "metadata": {},
     "output_type": "execute_result"
    }
   ],
   "source": [
    "#total\n",
    "np.ma.masked_where(overl<=0,overl).mean(axis = 2).mean(axis = 0).data"
   ]
  },
  {
   "cell_type": "code",
   "execution_count": 70,
   "id": "99623fac",
   "metadata": {},
   "outputs": [
    {
     "data": {
      "text/plain": [
       "array([20.05, 16.38,  6.48,  4.85,  2.72])"
      ]
     },
     "execution_count": 70,
     "metadata": {},
     "output_type": "execute_result"
    }
   ],
   "source": [
    "#dist left\n",
    "np.ma.masked_where(np.logical_or(right_pred,dist<=0),dist).mean(axis = 2).mean(axis = 0).data"
   ]
  },
  {
   "cell_type": "code",
   "execution_count": 74,
   "id": "c4e62c02",
   "metadata": {},
   "outputs": [
    {
     "data": {
      "text/plain": [
       "masked_array(data=[20.679685362517098, 16.342475204829668,\n",
       "                   6.409174491392801, 4.892679127725857,\n",
       "                   2.6956296296296296],\n",
       "             mask=[False, False, False, False, False],\n",
       "       fill_value=1e+20)"
      ]
     },
     "execution_count": 74,
     "metadata": {},
     "output_type": "execute_result"
    }
   ],
   "source": [
    "distleft6 = np.ma.masked_where(np.logical_or(right_pred,dist<=0),dist).mean(axis = 0)\n",
    "distleft6.mean(axis = 1)"
   ]
  },
  {
   "cell_type": "code",
   "execution_count": 32,
   "id": "77f27779",
   "metadata": {},
   "outputs": [
    {
     "data": {
      "text/plain": [
       "masked_array(data=[--, 11.933333333333334, 11.266666666666666, 8.4, 7.75,\n",
       "                   5.6, 22.5, --, 4.333333333333333, 9.15, 7.25, 6.75,\n",
       "                   14.1, 8.833333333333332, 4.166666666666666, 6.5, 7.0,\n",
       "                   13.4, 3.5, 9.033333333333333, 8.5, 6.633333333333335,\n",
       "                   19.866666666666667, 7.25, 7.25, 10.4, 3.0,\n",
       "                   5.166666666666667, 7.966666666666667, 4.0, 10.6, 5.1,\n",
       "                   1.5, 14.875, 1.0, 10.766666666666666, 7.2, --, 12.5,\n",
       "                   10.4, 9.4, 18.2, 6.333333333333333, 11.0,\n",
       "                   5.444444444444444, 9.8, 3.2, 13.55, 10.3,\n",
       "                   12.983333333333334, 5.1, 5.0, 7.6, 9.0, 14.0, 12.6,\n",
       "                   2.0, 9.375, 5.5, 2.75, 4.8, 6.4, 10.433333333333334,\n",
       "                   16.150000000000002, 6.866666666666667,\n",
       "                   2.3333333333333335, 7.666666666666667,\n",
       "                   4.133333333333334, 10.45, 9.7, 11.666666666666666, 8.0,\n",
       "                   18.4, --, 18.75, 5.722222222222221, 7.033333333333333,\n",
       "                   6.583333333333333, 9.466666666666667, 1.0,\n",
       "                   3.6666666666666665, 11.683333333333334,\n",
       "                   5.116666666666667, 4.733333333333333, 2.0, 11.0,\n",
       "                   17.066666666666666, 15.5, 10.8, --, 12.1, 5.375, 3.75,\n",
       "                   7.8, 11.7, 9.133333333333333, 10.2, 4.166666666666667,\n",
       "                   6.383333333333334, 1.0, 3.0, 4.566666666666666, 16.7,\n",
       "                   10.1, 7.375, 6.25, 13.533333333333335, 3.9, 5.0, --,\n",
       "                   13.15, 6.1, 7.6, 6.4, 11.2, 4.0, 8.133333333333333,\n",
       "                   15.75, 18.0, 13.616666666666669, 9.5,\n",
       "                   8.666666666666666, 4.2, 14.333333333333334,\n",
       "                   7.416666666666666, 3.75, 12.4, 6.8, --, 3.0,\n",
       "                   3.6666666666666665, 5.166666666666667, 4.9375,\n",
       "                   14.333333333333332, --, 4.0, 6.0, 2.5,\n",
       "                   13.23333333333333, 9.066666666666666, 10.93, 16.3,\n",
       "                   2.6666666666666665, 6.6, 3.5, 6.0, 16.8, 8.25, 7.3,\n",
       "                   6.5, 9.8, 2.2222222222222223, 20.2, 8.9, 14.25,\n",
       "                   3.6666666666666665, 2.5, 8.0, 13.125,\n",
       "                   19.633333333333333, 17.933333333333334, 20.8,\n",
       "                   3.6666666666666665, 14.683333333333334, 14.125, 6.1,\n",
       "                   6.8, 20.7, 8.0, 13.8, 4.916666666666667, 5.125,\n",
       "                   8.233333333333333, 6.6, 10.8, 8.133333333333333,\n",
       "                   7.2666666666666675, 14.733333333333334, 7.6, 3.0, 7.55,\n",
       "                   8.78, 4.25, 9.466666666666667, 15.8,\n",
       "                   13.533333333333335, 11.0, 4.25, --, 10.866666666666667,\n",
       "                   23.2, 16.366666666666667, 7.3, 16.0, 10.3,\n",
       "                   6.566666666666667, 6.283333333333333, 16.5,\n",
       "                   16.166666666666668, 6.666666666666666,\n",
       "                   13.666666666666668, 5.625, 9.4, 4.75, 1.0, 6.125,\n",
       "                   6.466666666666667, 4.0, 7.5, 9.65, 1.0, 9.0, 11.0,\n",
       "                   4.125, 8.7, 11.333333333333332, 4.5, 4.0, 4.0, 10.9,\n",
       "                   10.933333333333334, 4.0, 9.4, 8.0, 4.25,\n",
       "                   13.458333333333332, 4.75, 6.5, 8.2, 11.666666666666666,\n",
       "                   10.5, 12.633333333333333, 12.3, 12.6, 6.25,\n",
       "                   12.766666666666666, 9.125, 10.5, 15.566666666666668,\n",
       "                   7.6, 16.050000000000004, 7.3, 4.25, 1.6666666666666667,\n",
       "                   8.625, 26.0, --, 4.916666666666667, 14.183333333333334,\n",
       "                   6.0, 13.1, 18.125, 7.7, 3.0, 18.375, 2.25,\n",
       "                   6.533333333333334, 11.066666666666666,\n",
       "                   9.533333333333333, --, 12.9, 8.25, 3.8, 16.9, 12.0,\n",
       "                   15.0, 9.6, 14.2, 15.766666666666666, --, 7.1, 22.6,\n",
       "                   11.583333333333332, 9.4, 3.0, 11.7, 7.8, 16.8, 2.0,\n",
       "                   15.166666666666666, 9.85, 23.666666666666668, 10.9,\n",
       "                   19.7, 8.6, 11.4, 5.733333333333333, 1.5833333333333335,\n",
       "                   6.866666666666665, 17.5, 7.0, 8.25, 11.1,\n",
       "                   3.2916666666666665, 2.5, 8.3, 18.833333333333332,\n",
       "                   4.625, 9.833333333333334, --, 6.0, 10.0, 4.625, 3.0,\n",
       "                   8.133333333333333, --, 9.033333333333335, 4.25, --,\n",
       "                   8.97, 9.416666666666666, 6.8, 10.216666666666667, 11.5,\n",
       "                   12.466666666666665, 8.375, 3.8333333333333335, 12.5,\n",
       "                   4.9, 10.708333333333334, 9.35, 5.9, 16.2, 13.6,\n",
       "                   7.933333333333333, 7.7, 3.1, 4.8, 2.0, 8.6, 14.4, 15.6,\n",
       "                   10.2, 12.2, 10.7, 8.25, 15.4, 8.9, 5.633333333333334,\n",
       "                   11.583333333333332, 2.0, 5.0, 14.533333333333335,\n",
       "                   10.833333333333332, 3.5, 10.4, 17.9,\n",
       "                   12.066666666666666, 3.5, 10.133333333333335, 6.2, 17.0,\n",
       "                   8.8, 9.4, 11.133333333333333, 18.375, 22.5, 6.4, 6.0,\n",
       "                   5.0, 9.133333333333333, 3.708333333333333, 7.8, 19.6,\n",
       "                   7.8, 18.066666666666666, 14.5, 1.0, 9.0,\n",
       "                   13.233333333333334, 15.6, 12.233333333333334, 9.9,\n",
       "                   6.1499999999999995, 8.875, 6.0, 8.9, 7.0,\n",
       "                   9.799999999999999, 11.625, 13.933333333333334, 1.0,\n",
       "                   12.8, 9.2, 7.5, 2.25, 7.566666666666667,\n",
       "                   7.466666666666667, 7.708333333333333,\n",
       "                   8.633333333333335, 11.625, 9.2, 11.0, 13.7, 10.25,\n",
       "                   4.666666666666667, 14.966666666666669, 8.0,\n",
       "                   5.166666666666667, 8.666666666666668, 4.5,\n",
       "                   14.833333333333334, 9.883333333333333,\n",
       "                   3.3333333333333335, 5.0, 9.333333333333332, 6.0, 8.5,\n",
       "                   15.75, 4.0, 7.0, 9.116666666666667, 5.4, 8.0, 3.0, 9.9,\n",
       "                   --, 8.0, 11.5, 7.4, 8.4, 7.5, 13.066666666666668, 12.1,\n",
       "                   5.916666666666667, 13.45, 3.5, 5.166666666666667,\n",
       "                   8.875, 7.5, 13.033333333333335, --, --, 15.6,\n",
       "                   5.791666666666667, 6.791666666666667,\n",
       "                   4.791666666666667, 24.625, 13.666666666666666,\n",
       "                   11.133333333333333, 4.75, 4.75, 9.306666666666667,\n",
       "                   4.25, --, 1.6666666666666667, 17.3, 14.866666666666665,\n",
       "                   11.033333333333333, 8.5, --, 5.2, 5.2, 1.5, 5.5, 20.6,\n",
       "                   11.483333333333333, 8.433333333333334, 4.5, 9.0, 6.125,\n",
       "                   18.3, 16.133333333333333, 14.2, 17.066666666666666,\n",
       "                   5.833333333333334, 9.1, 22.4, 7.8, 7.25, 13.0, 4.0,\n",
       "                   18.75, 12.6, 8.1, 3.375, 9.5, 7.25, 7.133333333333333,\n",
       "                   8.6, 7.75, 12.733333333333333, 11.799999999999999, --,\n",
       "                   9.700000000000001, 15.6, 10.0, 13.75,\n",
       "                   5.666666666666667, 10.433333333333334,\n",
       "                   9.666666666666666, 3.8, 8.333333333333334,\n",
       "                   5.166666666666667, 3.1666666666666665, 5.2, 9.3,\n",
       "                   7.833333333333333, 2.3333333333333335, 15.2, 16.5, 1.5,\n",
       "                   7.8, 5.625, 5.875, 11.333333333333332,\n",
       "                   13.958333333333334, 13.833333333333334, 4.5,\n",
       "                   3.3333333333333335, 6.833333333333333,\n",
       "                   7.066666666666667, 8.8, 6.166666666666667, 17.125,\n",
       "                   17.833333333333336, 6.5, 6.5, 4.291666666666667, 9.0,\n",
       "                   16.9, 11.2, 11.766666666666667, 8.733333333333333,\n",
       "                   8.733333333333333, 4.666666666666667, 10.7, 5.875,\n",
       "                   13.6, 7.583333333333334, 2.8333333333333335, 7.7,\n",
       "                   29.75, 6.0, 13.266666666666666, 2.6666666666666665,\n",
       "                   10.4, 4.75, 10.5, 6.2, 5.666666666666667, 3.0, 7.15,\n",
       "                   13.266666666666666, 10.166666666666668, 9.0, 3.5, 4.4,\n",
       "                   13.5, 3.0, 3.3333333333333335, 11.133333333333333,\n",
       "                   17.933333333333334, 10.55, 2.3333333333333335,\n",
       "                   11.166666666666668, 6.0, 7.0, 5.75, 4.666666666666667,\n",
       "                   18.066666666666666, 9.2, 6.566666666666667, 5.9, 11.3,\n",
       "                   9.3, 14.1, 2.5, 8.633333333333333, 6.666666666666666,\n",
       "                   9.366666666666665, 9.125, 12.2, 10.26666666666667, 7.4,\n",
       "                   16.666666666666668, 15.0, 13.5, 4.0, 2.0, 5.75, 10.4,\n",
       "                   4.6, 7.6, 15.566666666666666, 11.5, 14.5, 5.75,\n",
       "                   29.73333333333333, 10.833333333333334,\n",
       "                   16.866666666666667, 7.866666666666667, 7.5,\n",
       "                   5.333333333333333, 9.3, 14.5, 10.166666666666668,\n",
       "                   10.333333333333332, 1.0, 11.4, 10.2, 3.0, 15.6, 11.0,\n",
       "                   10.35, 5.25, 10.875, 8.3, 10.5, 28.0, 9.5,\n",
       "                   9.133333333333335, 12.5, 16.0, 11.0,\n",
       "                   12.966666666666669, 8.5, --, 8.25, 4.5,\n",
       "                   6.333333333333333, 6.0, 2.0, 5.333333333333333, 12.25,\n",
       "                   1.0, 13.866666666666665, 7.1, 5.7, --, 7.375, 13.3,\n",
       "                   9.3, 10.666666666666666, 4.0, 3.4, 10.666666666666666,\n",
       "                   8.25, 9.0, 6.4, 11.0, 16.983333333333334, 13.8, 5.5,\n",
       "                   10.7, 7.208333333333333, 11.2, 4.333333333333333, 12.3,\n",
       "                   13.2, 8.2, 21.75, 12.666666666666668, 4.0,\n",
       "                   6.333333333333333, 14.3, --, 19.0, --,\n",
       "                   13.433333333333334, 13.366666666666669,\n",
       "                   3.6666666666666665, 6.4, 2.9166666666666665, 15.5,\n",
       "                   6.733333333333334, 12.4, 8.625, 15.0, 10.1, 8.6, 7.875,\n",
       "                   7.75, 7.75, 10.35, 6.016666666666667, 8.55,\n",
       "                   6.366666666666666, 2.6666666666666665, 8.7, 8.375, --,\n",
       "                   7.4, --, 5.5, 13.5, 14.333333333333334,\n",
       "                   9.266666666666667, 7.8, 4.6, 4.0, 6.6, 14.5,\n",
       "                   7.633333333333333, 11.375, 1.8333333333333333,\n",
       "                   9.466666666666667, 1.6666666666666667, 5.0, 12.85,\n",
       "                   6.5666666666666655, 16.3, 6.5, 9.4, 4.0,\n",
       "                   4.166666666666667, 7.75, 8.0, 17.5, 17.6, 2.0, 10.4,\n",
       "                   8.1, 11.45, 8.6, 12.533333333333333,\n",
       "                   7.2333333333333325, 10.533333333333333,\n",
       "                   8.866666666666667, 14.2, 5.25, 6.5, 10.533333333333335,\n",
       "                   --, 3.5, 8.5, 7.5, 13.4, 7.1, 5.333333333333333,\n",
       "                   5.166666666666666, 8.883333333333333, 3.0, 9.3, 4.6,\n",
       "                   7.2, 9.2, 4.5, 5.9, 13.866666666666669,\n",
       "                   7.7333333333333325, 13.98333333333333, 4.7, --, 9.0,\n",
       "                   1.6666666666666667, 7.65, 10.166666666666666,\n",
       "                   16.750000000000004, 4.7, 9.0, 9.8, 25.6, 4.0,\n",
       "                   9.533333333333333, 8.458333333333334, --, 12.7, 9.3,\n",
       "                   4.0, 16.96666666666667, 4.8, 8.0, 9.7, 7.3,\n",
       "                   5.208333333333333, 3.0, 10.2, 2.0, 15.0,\n",
       "                   13.666666666666668, 13.666666666666666, 11.6, 8.0,\n",
       "                   10.2, 8.766666666666667, 12.9, 5.7333333333333325, 2.0,\n",
       "                   14.6, 5.2, 15.333333333333334, 10.116666666666665,\n",
       "                   10.4, 4.25, 10.966666666666665, 19.5, 3.4, 16.0, 4.5,\n",
       "                   --, 2.75, 5.25, 2.8, 7.75, 12.2, 12.783333333333333,\n",
       "                   --, 7.449999999999998, 13.3, 5.333333333333333,\n",
       "                   10.233333333333333, 3.4, 13.75, 7.3, 4.666666666666667,\n",
       "                   1.5, 10.875, 18.0, 4.5, --, 11.458333333333334, 16.1,\n",
       "                   7.708333333333333, 12.6, 7.0, 10.533333333333333, 11.2,\n",
       "                   16.5, 1.0, 12.733333333333333, 7.9, --, 4.0,\n",
       "                   7.433333333333333, 7.166666666666667, 11.2, 14.875,\n",
       "                   7.9, 16.8, 9.9, 12.8, 5.933333333333333,\n",
       "                   6.933333333333333, 3.5, 12.016666666666667,\n",
       "                   10.066666666666666, 15.0, 2.3333333333333335, 3.5,\n",
       "                   13.0, --, 12.9, 8.333333333333334, 3.7, --,\n",
       "                   5.466666666666667, 5.666666666666667, 17.0,\n",
       "                   10.299999999999999, 9.866666666666667, 8.8, 2.0, 12.0,\n",
       "                   5.7333333333333325, 5.7, 7.2333333333333325, 10.1,\n",
       "                   13.4, 3.3333333333333335, 2.5, 10.25, 5.0, 11.2, 8.25,\n",
       "                   8.5, 9.25, 9.416666666666668, 18.5, 6.9, 17.2, 4.375,\n",
       "                   7.875, 12.2, 6.5, 16.283333333333335, --, 11.0, 10.4,\n",
       "                   10.125, 13.033333333333335, 9.749999999999998, 4.75,\n",
       "                   9.466666666666667, 9.7, 9.816666666666666, 13.15, 14.3,\n",
       "                   6.5, 4.8, 6.9, 4.0, 6.5, 7.5, 4.633333333333333, 10.9,\n",
       "                   12.5, 19.933333333333334, 8.75, 9.133333333333333,\n",
       "                   7.366666666666665, 4.0, 2.5, 12.866666666666665, 5.6,\n",
       "                   12.6, 9.766666666666666, 1.5, 6.25, 7.666666666666666,\n",
       "                   8.6, --, 17.633333333333333, 5.75, 13.983333333333334,\n",
       "                   --, 3.75, 8.6, 6.0, 3.0, 4.333333333333334, 16.1,\n",
       "                   2.8666666666666663, 5.566666666666666, --, 9.0, 13.25,\n",
       "                   11.366666666666667, 9.8, 12.25, 3.6666666666666665,\n",
       "                   5.299999999999999, 10.166666666666666,\n",
       "                   11.533333333333335, 18.7, 10.625, 11.899999999999999,\n",
       "                   8.5, 2.0, 4.0, 7.6, 2.3, 4.0, 8.7, 6.0, 7.4, 13.3,\n",
       "                   24.208333333333332, 10.0, 2.5, 7.0, 6.1, 6.5, 11.0,\n",
       "                   5.3, 6.9, 9.1, 12.86, 5.0, 16.2, 7.5, 12.125, 2.5, 5.7,\n",
       "                   9.133333333333335, 4.5, 4.875, 20.5, 19.0,\n",
       "                   20.066666666666666, 13.0, 20.133333333333333, 8.75,\n",
       "                   15.1, 2.0, 13.616666666666669, 10.033333333333335, 8.0,\n",
       "                   --, 1.4166666666666665, 2.25, 6.133333333333334,\n",
       "                   12.875, 12.1, 9.849999999999998, 16.75, 16.9,\n",
       "                   15.966666666666669, 24.333333333333332, 14.6, 9.75,\n",
       "                   11.6, 22.233333333333334, 4.333333333333333, 3.0, 8.9,\n",
       "                   4.333333333333333, 1.75, 10.549999999999999, 7.0],\n",
       "             mask=[ True, False, False, False, False, False, False,  True,\n",
       "                   False, False, False, False, False, False, False, False,\n",
       "                   False, False, False, False, False, False, False, False,\n",
       "                   False, False, False, False, False, False, False, False,\n",
       "                   False, False, False, False, False,  True, False, False,\n",
       "                   False, False, False, False, False, False, False, False,\n",
       "                   False, False, False, False, False, False, False, False,\n",
       "                   False, False, False, False, False, False, False, False,\n",
       "                   False, False, False, False, False, False, False, False,\n",
       "                   False,  True, False, False, False, False, False, False,\n",
       "                   False, False, False, False, False, False, False, False,\n",
       "                   False,  True, False, False, False, False, False, False,\n",
       "                   False, False, False, False, False, False, False, False,\n",
       "                   False, False, False, False, False,  True, False, False,\n",
       "                   False, False, False, False, False, False, False, False,\n",
       "                   False, False, False, False, False, False, False, False,\n",
       "                    True, False, False, False, False, False,  True, False,\n",
       "                   False, False, False, False, False, False, False, False,\n",
       "                   False, False, False, False, False, False, False, False,\n",
       "                   False, False, False, False, False, False, False, False,\n",
       "                   False, False, False, False, False, False, False, False,\n",
       "                   False, False, False, False, False, False, False, False,\n",
       "                   False, False, False, False, False, False, False, False,\n",
       "                   False, False, False, False,  True, False, False, False,\n",
       "                   False, False, False, False, False, False, False, False,\n",
       "                   False, False, False, False, False, False, False, False,\n",
       "                   False, False, False, False, False, False, False, False,\n",
       "                   False, False, False, False, False, False, False, False,\n",
       "                   False, False, False, False, False, False, False, False,\n",
       "                   False, False, False, False, False, False, False, False,\n",
       "                   False, False, False, False, False, False,  True, False,\n",
       "                   False, False, False, False, False, False, False, False,\n",
       "                   False, False, False,  True, False, False, False, False,\n",
       "                   False, False, False, False, False,  True, False, False,\n",
       "                   False, False, False, False, False, False, False, False,\n",
       "                   False, False, False, False, False, False, False, False,\n",
       "                   False, False, False, False, False, False, False, False,\n",
       "                   False, False, False,  True, False, False, False, False,\n",
       "                   False,  True, False, False,  True, False, False, False,\n",
       "                   False, False, False, False, False, False, False, False,\n",
       "                   False, False, False, False, False, False, False, False,\n",
       "                   False, False, False, False, False, False, False, False,\n",
       "                   False, False, False, False, False, False, False, False,\n",
       "                   False, False, False, False, False, False, False, False,\n",
       "                   False, False, False, False, False, False, False, False,\n",
       "                   False, False, False, False, False, False, False, False,\n",
       "                   False, False, False, False, False, False, False, False,\n",
       "                   False, False, False, False, False, False, False, False,\n",
       "                   False, False, False, False, False, False, False, False,\n",
       "                   False, False, False, False, False, False, False, False,\n",
       "                   False, False, False, False, False, False, False, False,\n",
       "                   False, False, False, False, False, False, False, False,\n",
       "                    True, False, False, False, False, False, False, False,\n",
       "                   False, False, False, False, False, False, False,  True,\n",
       "                    True, False, False, False, False, False, False, False,\n",
       "                   False, False, False, False,  True, False, False, False,\n",
       "                   False, False,  True, False, False, False, False, False,\n",
       "                   False, False, False, False, False, False, False, False,\n",
       "                   False, False, False, False, False, False, False, False,\n",
       "                   False, False, False, False, False, False, False, False,\n",
       "                   False, False, False,  True, False, False, False, False,\n",
       "                   False, False, False, False, False, False, False, False,\n",
       "                   False, False, False, False, False, False, False, False,\n",
       "                   False, False, False, False, False, False, False, False,\n",
       "                   False, False, False, False, False, False, False, False,\n",
       "                   False, False, False, False, False, False, False, False,\n",
       "                   False, False, False, False, False, False, False, False,\n",
       "                   False, False, False, False, False, False, False, False,\n",
       "                   False, False, False, False, False, False, False, False,\n",
       "                   False, False, False, False, False, False, False, False,\n",
       "                   False, False, False, False, False, False, False, False,\n",
       "                   False, False, False, False, False, False, False, False,\n",
       "                   False, False, False, False, False, False, False, False,\n",
       "                   False, False, False, False, False, False, False, False,\n",
       "                   False, False, False, False, False, False, False, False,\n",
       "                   False, False, False, False, False, False, False, False,\n",
       "                   False, False, False, False, False, False, False, False,\n",
       "                   False,  True, False, False, False, False, False, False,\n",
       "                   False, False, False, False, False,  True, False, False,\n",
       "                   False, False, False, False, False, False, False, False,\n",
       "                   False, False, False, False, False, False, False, False,\n",
       "                   False, False, False, False, False, False, False, False,\n",
       "                    True, False,  True, False, False, False, False, False,\n",
       "                   False, False, False, False, False, False, False, False,\n",
       "                   False, False, False, False, False, False, False, False,\n",
       "                   False,  True, False,  True, False, False, False, False,\n",
       "                   False, False, False, False, False, False, False, False,\n",
       "                   False, False, False, False, False, False, False, False,\n",
       "                   False, False, False, False, False, False, False, False,\n",
       "                   False, False, False, False, False, False, False, False,\n",
       "                   False, False, False,  True, False, False, False, False,\n",
       "                   False, False, False, False, False, False, False, False,\n",
       "                   False, False, False, False, False, False, False,  True,\n",
       "                   False, False, False, False, False, False, False, False,\n",
       "                   False, False, False, False,  True, False, False, False,\n",
       "                   False, False, False, False, False, False, False, False,\n",
       "                   False, False, False, False, False, False, False, False,\n",
       "                   False, False, False, False, False, False, False, False,\n",
       "                   False, False, False, False, False, False,  True, False,\n",
       "                   False, False, False, False, False,  True, False, False,\n",
       "                   False, False, False, False, False, False, False, False,\n",
       "                   False, False,  True, False, False, False, False, False,\n",
       "                   False, False, False, False, False, False,  True, False,\n",
       "                   False, False, False, False, False, False, False, False,\n",
       "                   False, False, False, False, False, False, False, False,\n",
       "                   False,  True, False, False, False,  True, False, False,\n",
       "                   False, False, False, False, False, False, False, False,\n",
       "                   False, False, False, False, False, False, False, False,\n",
       "                   False, False, False, False, False, False, False, False,\n",
       "                   False, False, False, False,  True, False, False, False,\n",
       "                   False, False, False, False, False, False, False, False,\n",
       "                   False, False, False, False, False, False, False, False,\n",
       "                   False, False, False, False, False, False, False, False,\n",
       "                   False, False, False, False, False, False, False,  True,\n",
       "                   False, False, False,  True, False, False, False, False,\n",
       "                   False, False, False, False,  True, False, False, False,\n",
       "                   False, False, False, False, False, False, False, False,\n",
       "                   False, False, False, False, False, False, False, False,\n",
       "                   False, False, False, False, False, False, False, False,\n",
       "                   False, False, False, False, False, False, False, False,\n",
       "                   False, False, False, False, False, False, False, False,\n",
       "                   False, False, False, False, False, False, False, False,\n",
       "                   False, False,  True, False, False, False, False, False,\n",
       "                   False, False, False, False, False, False, False, False,\n",
       "                   False, False, False, False, False, False, False, False],\n",
       "       fill_value=1e+20)"
      ]
     },
     "execution_count": 32,
     "metadata": {},
     "output_type": "execute_result"
    }
   ],
   "source": [
    "np.ma.masked_where(np.logical_or(right_pred,dist<=0),dist).mean(axis = 0).mean(axis = 0)"
   ]
  },
  {
   "cell_type": "code",
   "execution_count": 71,
   "id": "bac5906e",
   "metadata": {},
   "outputs": [
    {
     "data": {
      "text/plain": [
       "array([79.73, 75.72, 75.11, 75.86, 75.56])"
      ]
     },
     "execution_count": 71,
     "metadata": {},
     "output_type": "execute_result"
    }
   ],
   "source": [
    "#dist right\n",
    "np.ma.masked_where(np.logical_or(left_pred,dist<=0),dist).mean(axis = 2).mean(axis = 0).data"
   ]
  },
  {
   "cell_type": "code",
   "execution_count": 59,
   "id": "a64b7d18",
   "metadata": {},
   "outputs": [
    {
     "data": {
      "text/plain": [
       "array([70.8 , 74.1 , 73.68, 74.67, 74.77])"
      ]
     },
     "execution_count": 59,
     "metadata": {},
     "output_type": "execute_result"
    }
   ],
   "source": [
    "#dist total\n",
    "np.ma.masked_where(dist<=0,dist).mean(axis = 2).mean(axis = 0).data"
   ]
  },
  {
   "cell_type": "code",
   "execution_count": 22,
   "id": "46242ac2",
   "metadata": {},
   "outputs": [
    {
     "data": {
      "text/plain": [
       "array([25.7 , 24.32, 16.36, 13.04,  6.34])"
      ]
     },
     "execution_count": 22,
     "metadata": {},
     "output_type": "execute_result"
    }
   ],
   "source": [
    "#intersect\n",
    "(overl>0).mean(axis =2).mean(axis =0) * 100"
   ]
  },
  {
   "cell_type": "code",
   "execution_count": null,
   "id": "16f73436",
   "metadata": {},
   "outputs": [],
   "source": [
    "right_pred.mean(axis = 2).mean(axis = 0)"
   ]
  },
  {
   "cell_type": "code",
   "execution_count": null,
   "id": "e53c9e63",
   "metadata": {},
   "outputs": [],
   "source": [
    "a = np.ma.masked_where(left_pred,overl>0).mean(axis =2).mean(axis =0) * 100\n",
    "b = np.ma.masked_where(left_pred,(dist>0)).mean(axis =2).mean(axis =0) * 100\n",
    "c = np.ma.masked_where(left_pred,(overl==0)).mean(axis =2).mean(axis =0) * 100\n",
    "print(a.data,b.data,c.data)"
   ]
  },
  {
   "cell_type": "code",
   "execution_count": null,
   "id": "9e702bd8",
   "metadata": {},
   "outputs": [],
   "source": [
    "a = np.ma.masked_where(right_pred,overl>0).mean(axis =2).mean(axis =0) * 100\n",
    "b = np.ma.masked_where(right_pred,(dist>0)).mean(axis =2).mean(axis =0) * 100\n",
    "c = np.ma.masked_where(right_pred,(overl==0)).mean(axis =2).mean(axis =0) * 100\n",
    "print(a.data,b.data,c.data)"
   ]
  },
  {
   "cell_type": "code",
   "execution_count": 23,
   "id": "e6d7933c",
   "metadata": {},
   "outputs": [
    {
     "data": {
      "text/plain": [
       "array([73.6 , 74.64, 80.48, 82.6 , 86.62])"
      ]
     },
     "execution_count": 23,
     "metadata": {},
     "output_type": "execute_result"
    }
   ],
   "source": [
    "#dist\n",
    "(dist>0).mean(axis =2).mean(axis =0) * 100\n",
    "(dist>0).mean(axis =2).std(axis =0) * 100\n",
    "### za leve dist i overl\n",
    "np.ma.masked_where(right_pred,dist>0).mean(axis = 2).mean(axis = 0).data*100\n",
    "np.ma.masked_where(right_pred,overl>0).mean(axis = 2).mean(axis = 0).data*100\n"
   ]
  },
  {
   "cell_type": "code",
   "execution_count": 72,
   "id": "772e9c04",
   "metadata": {},
   "outputs": [
    {
     "name": "stdout",
     "output_type": "stream",
     "text": [
      "[18.94 13.21  5.84  3.58  1.59]\n",
      "[21.24 13.02  5.75  4.2   2.8 ]\n",
      "[14.48 10.89  4.8   3.11  1.66]\n",
      "[24.44 14.11  5.24  3.58  1.47]\n",
      "[23.22 13.66  5.52  3.81  2.05]\n",
      "[19.46 12.45  5.4   3.5   1.62]\n"
     ]
    }
   ],
   "source": [
    "# f\n",
    "# print(np.ma.masked_where(np.logical_or(right_pred,dist<=0),dist).std(axis = 2).mean(axis = 0).data)\n",
    "# print(np.ma.masked_where(np.logical_or(right_pred,overl<=0),overl).std(axis = 2).mean(axis = 0).data)\n",
    "\n",
    "# g\n",
    "#left\n",
    "print(np.ma.masked_where(np.logical_or(right_pred,dist<=0),dist).std(axis = 2).mean(axis = 0).data)\n",
    "print(np.ma.masked_where(np.logical_or(right_pred,overl<=0),overl).std(axis = 2).mean(axis = 0).data)\n",
    "\n",
    "#right\n",
    "print(np.ma.masked_where(np.logical_or(left_pred,dist<=0),dist).std(axis = 2).mean(axis = 0).data)\n",
    "print(np.ma.masked_where(np.logical_or(left_pred,overl<=0),overl).std(axis = 2).mean(axis = 0).data)\n",
    "\n",
    "#all\n",
    "print(np.ma.masked_where(overl<=0,overl).std(axis = 2).mean(axis = 0).data)\n",
    "print(np.ma.masked_where(dist<=0,dist).std(axis = 2).mean(axis = 0).data)\n"
   ]
  },
  {
   "cell_type": "code",
   "execution_count": 29,
   "id": "acf640bc",
   "metadata": {},
   "outputs": [
    {
     "data": {
      "text/plain": [
       "masked_array(\n",
       "  data=[[0.4703558701335379, 0.49874291723190917, 0.49845820527696044,\n",
       "         0.4571388360008653, 0.42923275819738443],\n",
       "        [0.49724866598882334, 0.49385347564323523, 0.46995648310307536,\n",
       "         0.4968522323622596, 0.42663407731812786],\n",
       "        [0.4894230738033227, 0.4859326681979645, 0.47978983530563185,\n",
       "         0.47589136961399553, 0.44179696162785337],\n",
       "        [0.4957053964019592, 0.4954724916561888, 0.4721269527431277,\n",
       "         0.4306595080369678, 0.4540624931692628],\n",
       "        [0.4951292965976695, 0.4903798257008435, 0.49350632331649863,\n",
       "         0.48280430818293246, 0.44656485603147167]],\n",
       "  mask=[[False, False, False, False, False],\n",
       "        [False, False, False, False, False],\n",
       "        [False, False, False, False, False],\n",
       "        [False, False, False, False, False],\n",
       "        [False, False, False, False, False]],\n",
       "  fill_value=1e+20)"
      ]
     },
     "execution_count": 29,
     "metadata": {},
     "output_type": "execute_result"
    }
   ],
   "source": [
    "np.ma.masked_where(right_pred,dist>0).std(axis = 2)"
   ]
  },
  {
   "cell_type": "code",
   "execution_count": null,
   "id": "62f74d69",
   "metadata": {},
   "outputs": [],
   "source": [
    "#tauching\n",
    "(dist==0).mean(axis =2).mean(axis =0) * 100\n",
    "np.ma.masked_where(np.logical_or(right_pred,dist<=0),dist==0).mean(axis = 2).mean(axis = 0).data"
   ]
  },
  {
   "cell_type": "code",
   "execution_count": null,
   "id": "b8d13ee9",
   "metadata": {},
   "outputs": [],
   "source": [
    "(overl==0).mean(axis =2).mean(axis =0) * 100"
   ]
  },
  {
   "cell_type": "code",
   "execution_count": null,
   "id": "d48971fc",
   "metadata": {},
   "outputs": [],
   "source": [
    "(dist[0][0] > 0).sum()"
   ]
  },
  {
   "cell_type": "code",
   "execution_count": null,
   "id": "b01259e3",
   "metadata": {},
   "outputs": [],
   "source": [
    "(overl[0][0] > 0).sum()"
   ]
  },
  {
   "cell_type": "code",
   "execution_count": null,
   "id": "14b1ca85",
   "metadata": {},
   "outputs": [],
   "source": [
    "(dist[0][0] == overl[0][0]).sum()"
   ]
  },
  {
   "cell_type": "code",
   "execution_count": null,
   "id": "85eb9c36",
   "metadata": {},
   "outputs": [],
   "source": [
    "overl,dist = experiment_2.avg_iterations(preds_test, X_types_test_iterations)"
   ]
  },
  {
   "cell_type": "code",
   "execution_count": null,
   "id": "7a33f326",
   "metadata": {},
   "outputs": [],
   "source": [
    "np.where(preds_test[0][0][55]==1)"
   ]
  },
  {
   "cell_type": "code",
   "execution_count": null,
   "id": "05a5e7cb",
   "metadata": {},
   "outputs": [],
   "source": [
    "np.where(predde[0][0][55]==1)"
   ]
  },
  {
   "cell_type": "code",
   "execution_count": null,
   "id": "76de373c",
   "metadata": {},
   "outputs": [],
   "source": [
    "distance"
   ]
  },
  {
   "cell_type": "markdown",
   "id": "f0f108d7",
   "metadata": {},
   "source": [
    "### Zavisnost overlaping od distance od right edge"
   ]
  },
  {
   "cell_type": "code",
   "execution_count": null,
   "id": "519c4564",
   "metadata": {},
   "outputs": [],
   "source": [
    "niz_l = []\n",
    "for i in range(0,600,10):\n",
    "    overl_dist = np.ma.masked_where(np.logical_or(~left_pred,~np.isin(distance,list(range(i,i+10)))),overl>0).mean(axis =2).mean(axis =0).data * 100\n",
    "    niz_l.append(overl_dist)\n",
    "niz_arr_l = np.asarray(niz_l)"
   ]
  },
  {
   "cell_type": "code",
   "execution_count": null,
   "id": "7d76b796",
   "metadata": {},
   "outputs": [],
   "source": [
    "# def overl_distance_right_edge(a,b,c):\n",
    "#     niz_r = []\n",
    "#     k = 100\n",
    "#     for i in range(0,600,k):\n",
    "# #         overl_dist = np.ma.masked_where(np.logical_or(~a,~np.isin(b,list(range(i,i+10)))),c>0).mean(axis =2).mean(axis =0).data * 100\n",
    "#         overl_dist = np.ma.masked_where(~np.isin(b,list(range(i,i+k))),c>0).mean(axis =2).mean(axis =0).data * 100\n",
    "\n",
    "#         niz_r.append(overl_dist)\n",
    "#     return(np.asarray(niz_r))\n",
    "\n",
    "def overl_distance_right_edgee(a,b,c):\n",
    "    niz_r = []\n",
    "    k = 100\n",
    "    for i in range(0,600,k):\n",
    "        overl_dist = np.ma.masked_where(np.logical_or(~a,~np.isin(b,list(range(i,i+k)))),c>0).mean(axis =2).mean(axis =0).data * 100\n",
    "        #overl_dist = np.ma.masked_where(~np.isin(b,list(range(i,i+k))),c>0).mean(axis =2).mean(axis =0).data * 100\n",
    "\n",
    "        niz_r.append(overl_dist)\n",
    "    return (np.asarray(niz_r))"
   ]
  },
  {
   "cell_type": "code",
   "execution_count": null,
   "id": "70220f05",
   "metadata": {},
   "outputs": [],
   "source": [
    "np.ma.masked_where(np.isin(distance,[0,1]),overl>0).mean(axis =2).mean(axis =0).data * 100\n"
   ]
  },
  {
   "cell_type": "code",
   "execution_count": null,
   "id": "8ffd3aec",
   "metadata": {},
   "outputs": [],
   "source": [
    "overl,dist = experiment_2.overl_dist_iterations(preds_test, X_types_test_iterations)#dist -1 tamo gde je overlaping>0 i obrnuto"
   ]
  },
  {
   "cell_type": "code",
   "execution_count": null,
   "id": "cc01d407",
   "metadata": {},
   "outputs": [],
   "source": [
    "violations,distance,correct = experiment_2.violation_iteration_avg(preds_test,X_types_test_iterations)"
   ]
  },
  {
   "cell_type": "code",
   "execution_count": null,
   "id": "99d2ba67",
   "metadata": {},
   "outputs": [],
   "source": [
    "# niz_arr_l =overl_distance_right_edge(left_pred,absolute,overl)\n",
    "# niz_arr_r =overl_distance_right_edge(right_pred,absolute,overl)\n",
    "niz_all = overl_distance_right_edgee(right_pred,distance,dist)\n",
    "plt.plot(niz_all[:,4])"
   ]
  },
  {
   "cell_type": "code",
   "execution_count": null,
   "id": "2b2a1b4a",
   "metadata": {},
   "outputs": [],
   "source": [
    "niz_all[10:,:]"
   ]
  },
  {
   "cell_type": "code",
   "execution_count": null,
   "id": "76961662",
   "metadata": {},
   "outputs": [],
   "source": [
    "absolute = distance - distance_left_edge"
   ]
  },
  {
   "cell_type": "markdown",
   "id": "18c023bd",
   "metadata": {},
   "source": [
    "## zavisnost corect side i razlika u duzini levog i desnog parceta"
   ]
  },
  {
   "cell_type": "code",
   "execution_count": null,
   "id": "c6011b8c",
   "metadata": {},
   "outputs": [],
   "source": [
    "violations,distance_right_edge,correct = experiment_2.violation_iteration_avg(X_types_test_iterations[:,:,:,1,:],X_types_test_iterations)"
   ]
  },
  {
   "cell_type": "code",
   "execution_count": null,
   "id": "4b0f37b3",
   "metadata": {},
   "outputs": [],
   "source": [
    "left_edge =experiment_2.iterations_distance_left_edge(X_types_test_iterations[:,:,:,1,:])"
   ]
  },
  {
   "cell_type": "code",
   "execution_count": null,
   "id": "5d105535",
   "metadata": {},
   "outputs": [],
   "source": [
    "absolute = abs(left_edge-distance_right_edge)"
   ]
  },
  {
   "cell_type": "code",
   "execution_count": null,
   "id": "23186ac9",
   "metadata": {},
   "outputs": [],
   "source": [
    "absolute"
   ]
  },
  {
   "cell_type": "code",
   "execution_count": null,
   "id": "8c57a693",
   "metadata": {},
   "outputs": [],
   "source": [
    "def corectside_space_difference(a,b,c):\n",
    "    niz_r = []\n",
    "    k = 10\n",
    "    for i in range(0,600,k):\n",
    "#         overl_dist = np.ma.masked_where(np.logical_or(~a,~np.isin(b,list(range(i,i+10)))),c>0).mean(axis =2).mean(axis =0).data * 100\n",
    "        overl_dist = np.ma.masked_where(~np.isin(absolute,list(range(i,i+k))),correct_Side).mean(axis =2).mean(axis =0).data * 100\n",
    "\n",
    "        niz_r.append(overl_dist)\n",
    "    return(np.asarray(niz_r))"
   ]
  },
  {
   "cell_type": "code",
   "execution_count": null,
   "id": "1b548ecb",
   "metadata": {},
   "outputs": [],
   "source": [
    "vre = corectside_space_difference(0,0,0)"
   ]
  },
  {
   "cell_type": "code",
   "execution_count": null,
   "id": "0c8080ba",
   "metadata": {},
   "outputs": [],
   "source": [
    "overl_dist = np.ma.masked_where(~np.isin(absolute,list(range(20,100))),correct_Side).mean(axis =2).mean(axis =0).data * 100\n"
   ]
  },
  {
   "cell_type": "code",
   "execution_count": null,
   "id": "3cef38ba",
   "metadata": {},
   "outputs": [],
   "source": [
    "plt.plot(vre[:,3])"
   ]
  },
  {
   "cell_type": "code",
   "execution_count": null,
   "id": "74a6236d",
   "metadata": {},
   "outputs": [],
   "source": [
    "widthh =0.1\n",
    "pomeraj = -0.3\n",
    "plt.bar(pomeraj + widthh + np.arange(4),lika[0],width = widthh)\n",
    "plt.bar(pomeraj + widthh*2 + np.arange(4),lika[1],width = widthh)\n",
    "plt.bar(pomeraj + widthh*3 + np.arange(4),lika[2],width = widthh)\n",
    "plt.bar(pomeraj + widthh*4 + np.arange(4),lika[3],width = widthh)\n",
    "plt.bar(pomeraj + widthh*5 + np.arange(4),lika[4],width = widthh)\n",
    "plt.xticks(np.arange(4), [\"1\",\"2\",'3','4'])\n",
    "plt.legend( ['100', '200', '500','1000','4000'] )\n",
    "plt.savefig(\"space_B.png\")"
   ]
  },
  {
   "cell_type": "code",
   "execution_count": null,
   "id": "a5d640a4",
   "metadata": {},
   "outputs": [],
   "source": [
    "np.ma.masked_where(distance != 1,overl>0).mean(axis =2).mean(axis =0).data"
   ]
  },
  {
   "cell_type": "code",
   "execution_count": null,
   "id": "2144165d",
   "metadata": {},
   "outputs": [],
   "source": [
    "predde[0][0][55].sum()"
   ]
  },
  {
   "cell_type": "code",
   "execution_count": null,
   "id": "6d4ee9f4",
   "metadata": {},
   "outputs": [],
   "source": [
    "np.where(X_types_test_iterations[0][0][55][0]==1)"
   ]
  },
  {
   "cell_type": "code",
   "execution_count": null,
   "id": "b655de21",
   "metadata": {},
   "outputs": [],
   "source": [
    "dist[0][0]"
   ]
  },
  {
   "cell_type": "code",
   "execution_count": null,
   "id": "5468ce01",
   "metadata": {},
   "outputs": [],
   "source": [
    "proba = Y_types_test_iterations[0,0]"
   ]
  },
  {
   "cell_type": "code",
   "execution_count": null,
   "id": "043ab91f",
   "metadata": {},
   "outputs": [],
   "source": [
    "proba.sum(axis = 1)"
   ]
  },
  {
   "cell_type": "code",
   "execution_count": null,
   "id": "90425fcb",
   "metadata": {},
   "outputs": [],
   "source": [
    "cum=np.cumsum(Y_types_test_iterations[0,0],axis = 1)"
   ]
  },
  {
   "cell_type": "code",
   "execution_count": null,
   "id": "352d8114",
   "metadata": {},
   "outputs": [],
   "source": [
    "cum[0]"
   ]
  },
  {
   "cell_type": "code",
   "execution_count": null,
   "id": "ac72bde9",
   "metadata": {},
   "outputs": [],
   "source": [
    "a = np.asarray([[1,2],[3,4]])"
   ]
  },
  {
   "cell_type": "code",
   "execution_count": null,
   "id": "ce467a26",
   "metadata": {},
   "outputs": [],
   "source": [
    "a.shape"
   ]
  },
  {
   "cell_type": "code",
   "execution_count": null,
   "id": "8ec66f4b",
   "metadata": {},
   "outputs": [],
   "source": [
    "pred = experiment_1.arrange_object(preds_test[0,0],Y_types_test_iterations[0,0])"
   ]
  },
  {
   "cell_type": "code",
   "execution_count": null,
   "id": "5f98b768",
   "metadata": {},
   "outputs": [],
   "source": [
    "predde = []\n",
    "for i in range(0,2):\n",
    "    prede1 = []\n",
    "    for j in range(0,5):\n",
    "        prede1.append (experiment_1.arrange_object(preds_test[i,j],Y_types_test_iterations[i,j]))\n",
    "    predde.append(prede1)    "
   ]
  },
  {
   "cell_type": "code",
   "execution_count": null,
   "id": "58d978b8",
   "metadata": {},
   "outputs": [],
   "source": [
    "predde = np.asarray(predde)"
   ]
  },
  {
   "cell_type": "code",
   "execution_count": null,
   "id": "38cf89e4",
   "metadata": {},
   "outputs": [],
   "source": [
    "predde[0][0][0]"
   ]
  },
  {
   "cell_type": "code",
   "execution_count": null,
   "id": "9bfafda1",
   "metadata": {},
   "outputs": [],
   "source": []
  },
  {
   "cell_type": "code",
   "execution_count": null,
   "id": "81fefd61",
   "metadata": {},
   "outputs": [],
   "source": []
  },
  {
   "cell_type": "code",
   "execution_count": null,
   "id": "515ae5cb",
   "metadata": {},
   "outputs": [],
   "source": [
    "for i in range(0,predii.shape[0]):\n",
    "    predii[i]"
   ]
  }
 ],
 "metadata": {
  "kernelspec": {
   "display_name": "Python 3",
   "language": "python",
   "name": "python3"
  },
  "language_info": {
   "codemirror_mode": {
    "name": "ipython",
    "version": 3
   },
   "file_extension": ".py",
   "mimetype": "text/x-python",
   "name": "python",
   "nbconvert_exporter": "python",
   "pygments_lexer": "ipython3",
   "version": "3.10.13"
  }
 },
 "nbformat": 4,
 "nbformat_minor": 5
}
